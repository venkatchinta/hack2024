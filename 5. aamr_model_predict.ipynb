{
 "cells": [
  {
   "cell_type": "code",
   "execution_count": 55,
   "id": "35a15cb7-182c-47de-a369-45afe4fa2af5",
   "metadata": {
    "id": "ur8xi4C7S06n"
   },
   "outputs": [],
   "source": [
    "# Copyright 2023 Google LLC\n",
    "#\n",
    "# Licensed under the Apache License, Version 2.0 (the \"License\");\n",
    "# you may not use this file except in compliance with the License.\n",
    "# You may obtain a copy of the License at\n",
    "#\n",
    "#     https://www.apache.org/licenses/LICENSE-2.0\n",
    "#\n",
    "# Unless required by applicable law or agreed to in writing, software\n",
    "# distributed under the License is distributed on an \"AS IS\" BASIS,\n",
    "# WITHOUT WARRANTIES OR CONDITIONS OF ANY KIND, either express or implied.\n",
    "# See the License for the specific language governing permissions and\n",
    "# limitations under the License."
   ]
  },
  {
   "cell_type": "markdown",
   "id": "7ed962b9-1d1c-416b-87ae-2c0df79f9681",
   "metadata": {
    "id": "JAPoU8Sm5E6e"
   },
   "source": [
    "# AAMR - Predict Model "
   ]
  },
  {
   "cell_type": "markdown",
   "id": "7ddcb0e2-aa46-4a05-960c-54e3b0aa4a3c",
   "metadata": {
    "id": "24743cf4a1e1"
   },
   "source": [
    "**_NOTE_**: This notebook has been tested in the following environment:\n",
    "\n",
    "* Python version = 3.10.13"
   ]
  },
  {
   "cell_type": "markdown",
   "id": "3d830cc1-f173-4966-a84e-7e59e1b9dd5a",
   "metadata": {
    "id": "tvgnzT1CKxrO",
    "tags": []
   },
   "source": [
    "## Overview\n",
    "\n",
    "AAMR Custom model predictions using sample input values"
   ]
  },
  {
   "cell_type": "markdown",
   "id": "5bfd820f-c309-406e-a888-8dc2d994ee6f",
   "metadata": {
    "id": "d975e698c9a4"
   },
   "source": [
    "### Objective\n",
    "\n",
    "We will invoke custom model using google aiplatform library"
   ]
  },
  {
   "cell_type": "markdown",
   "id": "49ce07da-b308-4ea7-ae1d-d6d2ede96d25",
   "metadata": {
    "id": "i7EUnXsZhAGF"
   },
   "source": [
    "## Installation\n",
    "\n",
    "Install the following packages required to execute this notebook. "
   ]
  },
  {
   "cell_type": "code",
   "execution_count": 50,
   "id": "e870e231-6aa6-4a93-9db5-375374b8b65a",
   "metadata": {
    "tags": []
   },
   "outputs": [],
   "source": [
    "%%capture\n",
    "from typing import Dict, List, Union\n",
    "\n",
    "from google.cloud import aiplatform\n",
    "from google.protobuf import json_format\n",
    "from google.protobuf.struct_pb2 import Value"
   ]
  },
  {
   "cell_type": "code",
   "execution_count": 51,
   "id": "2d29bc0a-97c4-4654-95df-e77360342a31",
   "metadata": {
    "tags": []
   },
   "outputs": [],
   "source": [
    "def predict_custom_trained_model_sample(\n",
    "    project: str,\n",
    "    endpoint_id: str,\n",
    "    instances: Union[Dict, List[Dict]],\n",
    "    location: str = \"us-central1\",\n",
    "    api_endpoint: str = \"us-central1-aiplatform.googleapis.com\",\n",
    "):\n",
    "    \"\"\"\n",
    "    `instances` can be either single instance of type dict or a list\n",
    "    of instances.\n",
    "    \"\"\"\n",
    "    # The AI Platform services require regional API endpoints.\n",
    "    client_options = {\"api_endpoint\": api_endpoint}\n",
    "    # Initialize client that will be used to create and send requests.\n",
    "    # This client only needs to be created once, and can be reused for multiple requests.\n",
    "    client = aiplatform.gapic.PredictionServiceClient(client_options=client_options)\n",
    "    # The format of each instance should conform to the deployed model's prediction input schema.\n",
    "    #instances = instances if isinstance(instances, list) else [instances]\n",
    "    #instances = [\n",
    "    #    json_format.ParseDict(instance_dict, Value()) for instance_dict in instances\n",
    "    #]\n",
    "    print(instances)\n",
    "    parameters_dict = {}\n",
    "    parameters = json_format.ParseDict(parameters_dict, Value())\n",
    "    #instances = []\n",
    "    endpoint = client.endpoint_path(\n",
    "        project=project, location=location, endpoint=endpoint_id\n",
    "    )\n",
    "    response = client.predict(\n",
    "        endpoint=endpoint, instances=instances, parameters=parameters\n",
    "    )\n",
    "    print(\"response\")\n",
    "    print(\" deployed_model_id:\", response.deployed_model_id)\n",
    "    # The predictions are a google.protobuf.Value representation of the model's predictions.\n",
    "    predictions = response.predictions\n",
    "    for prediction in predictions:\n",
    "        print(\" prediction:\", dict(prediction))\n",
    "\n",
    "\n",
    "# [END aiplatform_predict_custom_trained_model_sample]"
   ]
  },
  {
   "cell_type": "code",
   "execution_count": 52,
   "id": "69387231-3b7c-454b-9be4-88f04c4e861d",
   "metadata": {
    "tags": []
   },
   "outputs": [],
   "source": [
    "ENDPOINT_ID=\"3372138390714580992\"\n",
    "PROJECT_ID=\"12660428104\""
   ]
  },
  {
   "cell_type": "code",
   "execution_count": 53,
   "id": "a8d70d56-43d9-4441-a28f-a2d74d03b346",
   "metadata": {
    "tags": []
   },
   "outputs": [],
   "source": [
    "#instance_dict = {\"image_bytes\": {\"b64\": encoded_content}, \"key\": \"0\"}\n",
    "instance_dict = {\"instances\": [\"10000\"]}"
   ]
  },
  {
   "cell_type": "code",
   "execution_count": 54,
   "id": "643759c6-87ae-4ba1-88e3-463a2b79567b",
   "metadata": {
    "tags": []
   },
   "outputs": [
    {
     "name": "stdout",
     "output_type": "stream",
     "text": [
      "{'instances': ['10000']}\n",
      "response\n",
      " deployed_model_id: 906359320612962304\n",
      " prediction: {'output_1': [0.0229750425, 0.0174844153, 0.0171760209, 0.0169903841, 0.0169713497, 0.0168687943, 0.0163368, 0.0162726939, 0.0158433374, 0.015711505], 'output_2': ['A Doxid 100mg Capsule', 'Nitrobact 100 Capsule', 'Algest SR 300 Tablet', 'Altonil 5mg Tablet', 'Atol AM Tablet', 'Atorva Gold 20 Capsule', 'Omen CT Tablet', 'Remicade Injection', 'Odicon 150 Tablet', 'Itralent 100mg Capsule']}\n"
     ]
    }
   ],
   "source": [
    "# Single instance as a dict\n",
    "predict_custom_trained_model_sample(\n",
    "    instances=instance_dict, project=PROJECT_ID, endpoint_id=ENDPOINT_ID\n",
    ")"
   ]
  },
  {
   "cell_type": "code",
   "execution_count": null,
   "id": "4478b140-52c6-4871-adca-3bfd43342369",
   "metadata": {},
   "outputs": [],
   "source": [
    "# Multiple instances in a list\n",
    "#predict_custom_trained_model_sample(\n",
    "#    instances=[instance_dict, instance_dict],\n",
    "#    project=PROJECT_ID,\n",
    "#    endpoint_id=ENDPOINT_ID,\n",
    "#)"
   ]
  }
 ],
 "metadata": {
  "environment": {
   "kernel": "conda-base-py",
   "name": "workbench-notebooks.m124",
   "type": "gcloud",
   "uri": "us-docker.pkg.dev/deeplearning-platform-release/gcr.io/workbench-notebooks:m124"
  },
  "kernelspec": {
   "display_name": "Python 3 (ipykernel)",
   "language": "python",
   "name": "conda-base-py"
  },
  "language_info": {
   "codemirror_mode": {
    "name": "ipython",
    "version": 3
   },
   "file_extension": ".py",
   "mimetype": "text/x-python",
   "name": "python",
   "nbconvert_exporter": "python",
   "pygments_lexer": "ipython3",
   "version": "3.10.14"
  }
 },
 "nbformat": 4,
 "nbformat_minor": 5
}
