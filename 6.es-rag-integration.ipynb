{
 "cells": [
  {
   "cell_type": "code",
   "execution_count": 2,
   "id": "a5e24b4b-6976-4b53-a2ce-1132e86df07d",
   "metadata": {
    "tags": []
   },
   "outputs": [
    {
     "name": "stdout",
     "output_type": "stream",
     "text": [
      "\u001b[33mWARNING: Ignoring invalid distribution -rotobuf (/opt/conda/lib/python3.10/site-packages)\u001b[0m\n",
      "\u001b[33mWARNING: Ignoring invalid distribution -rotobuf (/opt/conda/lib/python3.10/site-packages)\u001b[0m\n",
      "\u001b[33mWARNING: Ignoring invalid distribution -rotobuf (/opt/conda/lib/python3.10/site-packages)\u001b[0m\n",
      "\u001b[33mWARNING: Ignoring invalid distribution -rotobuf (/opt/conda/lib/python3.10/site-packages)\u001b[0m\n",
      "\u001b[33mWARNING: Ignoring invalid distribution -rotobuf (/opt/conda/lib/python3.10/site-packages)\u001b[0m\n",
      "\u001b[33mWARNING: Ignoring invalid distribution -rotobuf (/opt/conda/lib/python3.10/site-packages)\u001b[0m\n",
      "\u001b[33mWARNING: Ignoring invalid distribution -rotobuf (/opt/conda/lib/python3.10/site-packages)\u001b[0m\n",
      "\u001b[33mWARNING: Ignoring invalid distribution -rotobuf (/opt/conda/lib/python3.10/site-packages)\u001b[0m\n",
      "\u001b[33mWARNING: Ignoring invalid distribution -rotobuf (/opt/conda/lib/python3.10/site-packages)\u001b[0m\n",
      "\u001b[33mWARNING: Ignoring invalid distribution -rotobuf (/opt/conda/lib/python3.10/site-packages)\u001b[0m\n",
      "\u001b[33mWARNING: Ignoring invalid distribution -rotobuf (/opt/conda/lib/python3.10/site-packages)\u001b[0m\n",
      "\u001b[33mWARNING: Ignoring invalid distribution -rotobuf (/opt/conda/lib/python3.10/site-packages)\u001b[0m\n",
      "\u001b[33mWARNING: Ignoring invalid distribution -rotobuf (/opt/conda/lib/python3.10/site-packages)\u001b[0m\n"
     ]
    }
   ],
   "source": [
    "## Install the required packages\n",
    "!pip install -qU elasticsearch openai"
   ]
  },
  {
   "cell_type": "code",
   "execution_count": 10,
   "id": "a8a12707-cf34-4e26-a492-9fa2dcc24d35",
   "metadata": {
    "tags": []
   },
   "outputs": [],
   "source": [
    "import os\n",
    "from elasticsearch import Elasticsearch\n",
    "from openai import OpenAI"
   ]
  },
  {
   "cell_type": "code",
   "execution_count": 11,
   "id": "c0076e74-1e3d-4b39-9bd0-b22a6dc3471c",
   "metadata": {
    "tags": []
   },
   "outputs": [],
   "source": [
    "\n",
    "es_client = Elasticsearch(\n",
    "    \"https://0fff4a3adf484903be8f4465eb8ffd6c.us-central1.gcp.cloud.es.io:443\",\n",
    "    api_key=\"bVdQVVRwRUI4WDhGRkpjMkxCM0M6SmMxbERTS2dTUmV6VWp5dHhPNzZNdw==\"\n",
    ")\n",
    "      \n",
    "openai_client = OpenAI(\n",
    "    api_key=\"sk-svcacct-U71IhDCakJOnIBYwYIe6yF2AWEBqra5eR8is0mMmZ_nNf5JL_IqLT3BlbkFJIZ4wzAtNEGhKaUFAU9cwASyea_9Bh9x940xN8yc0hrQgkxjq4rUA\",\n",
    ")\n",
    "index_source_fields = {\n",
    "    \"search-wwwdavitacom\": [\n",
    "        \"body_content\"\n",
    "    ]\n",
    "}\n",
    "\n",
    "def get_elasticsearch_results(query):\n",
    "    es_query = {\n",
    "        \"retriever\": {\n",
    "            \"standard\": {\n",
    "                \"query\": {\n",
    "                    \"multi_match\": {\n",
    "                        \"query\": query,\n",
    "                        \"fields\": [\n",
    "                            \"title\",\n",
    "                            \"body_content\"\n",
    "                        ]\n",
    "                    }\n",
    "                }\n",
    "            }\n",
    "        },\n",
    "        \"size\": 3\n",
    "    }\n",
    "    result = es_client.search(index=\"search-wwwdavitacom\", body=es_query)\n",
    "    return result[\"hits\"][\"hits\"]\n",
    "\n"
   ]
  },
  {
   "cell_type": "code",
   "execution_count": 12,
   "id": "bede4dbe-3516-44de-b802-72f1ede23624",
   "metadata": {
    "tags": []
   },
   "outputs": [],
   "source": [
    "question = \"can you pull recommended information for CKD patient medications\"\n",
    "elasticsearch_results = get_elasticsearch_results(question)"
   ]
  },
  {
   "cell_type": "code",
   "execution_count": 13,
   "id": "b62ca530-ec10-4561-ad7f-22d0551914db",
   "metadata": {
    "tags": []
   },
   "outputs": [],
   "source": [
    "def create_openai_prompt(question, results):\n",
    "    context = \"\"\n",
    "    for hit in results:\n",
    "      source_field = index_source_fields.get(hit[\"_index\"])[0]\n",
    "      hit_context = hit[\"_source\"][source_field]\n",
    "      context += f\"{hit_context}\\n\"\n",
    "    prompt = f\"\"\"\n",
    "  Instructions:\n",
    "  \n",
    "  - You are an assistant for question-answering tasks.\n",
    "  - Answer questions truthfully and factually using only the information presented.\n",
    "  - If you don't know the answer, just say that you don't know, don't make up an answer!\n",
    "  \n",
    "  - Use markdown format for code examples.\n",
    "  - You are correct, factual, precise, and reliable.\n",
    "  \n",
    "  Context:\n",
    "  {context}\n",
    "  Question: {question}\n",
    "  Answer:\n",
    "  \"\"\"\n",
    "    return prompt\n"
   ]
  },
  {
   "cell_type": "code",
   "execution_count": 14,
   "id": "03433f30-7164-4bfd-aa09-415ae14e4202",
   "metadata": {
    "tags": []
   },
   "outputs": [],
   "source": [
    "context_prompt = create_openai_prompt(question, elasticsearch_results)\n",
    "#context_prompt"
   ]
  },
  {
   "cell_type": "code",
   "execution_count": 15,
   "id": "93848eec-0ea2-4a67-9233-a5d9afb16f57",
   "metadata": {
    "tags": []
   },
   "outputs": [],
   "source": [
    "def generate_openai_completion(user_prompt):\n",
    "    response = openai_client.chat.completions.create(\n",
    "        model=\"gpt-3.5-turbo\",\n",
    "        messages=[\n",
    "            {\"role\": \"system\", \"content\": \"You are an assistant for question-answering tasks.\"},\n",
    "            {\"role\": \"user\", \"content\": user_prompt},\n",
    "        ]\n",
    "    )\n",
    "    return response.choices[0].message.content\n"
   ]
  },
  {
   "cell_type": "code",
   "execution_count": 16,
   "id": "d85bebc1-64c8-48fd-8362-1ef52814a007",
   "metadata": {
    "tags": []
   },
   "outputs": [
    {
     "name": "stdout",
     "output_type": "stream",
     "text": [
      "I am unable to find specific information on recommended medications for CKD patients in the provided text.\n"
     ]
    }
   ],
   "source": [
    "openai_completion = generate_openai_completion(context_prompt)\n",
    "print(openai_completion)"
   ]
  },
  {
   "cell_type": "code",
   "execution_count": null,
   "id": "237af760-c1f0-4b21-9d13-da9798478efa",
   "metadata": {},
   "outputs": [],
   "source": []
  },
  {
   "cell_type": "code",
   "execution_count": null,
   "id": "c80a5934-30de-434e-933e-c69826f3df8c",
   "metadata": {},
   "outputs": [],
   "source": []
  }
 ],
 "metadata": {
  "environment": {
   "kernel": "conda-base-py",
   "name": "workbench-notebooks.m124",
   "type": "gcloud",
   "uri": "us-docker.pkg.dev/deeplearning-platform-release/gcr.io/workbench-notebooks:m124"
  },
  "kernelspec": {
   "display_name": "Python 3 (ipykernel)",
   "language": "python",
   "name": "conda-base-py"
  },
  "language_info": {
   "codemirror_mode": {
    "name": "ipython",
    "version": 3
   },
   "file_extension": ".py",
   "mimetype": "text/x-python",
   "name": "python",
   "nbconvert_exporter": "python",
   "pygments_lexer": "ipython3",
   "version": "3.10.14"
  },
  "toc-autonumbering": true,
  "toc-showcode": true,
  "toc-showmarkdowntxt": true
 },
 "nbformat": 4,
 "nbformat_minor": 5
}
