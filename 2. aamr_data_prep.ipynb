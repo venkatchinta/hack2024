{
 "cells": [
  {
   "cell_type": "raw",
   "metadata": {
    "id": "ur8xi4C7S06n"
   },
   "source": [
    "# Copyright 2023 Google LLC\n",
    "#\n",
    "# Licensed under the Apache License, Version 2.0 (the \"License\");\n",
    "# you may not use this file except in compliance with the License.\n",
    "# You may obtain a copy of the License at\n",
    "#\n",
    "#     https://www.apache.org/licenses/LICENSE-2.0\n",
    "#\n",
    "# Unless required by applicable law or agreed to in writing, software\n",
    "# distributed under the License is distributed on an \"AS IS\" BASIS,\n",
    "# WITHOUT WARRANTIES OR CONDITIONS OF ANY KIND, either express or implied.\n",
    "# See the License for the specific language governing permissions and\n",
    "# limitations under the License."
   ]
  },
  {
   "cell_type": "markdown",
   "metadata": {
    "id": "JAPoU8Sm5E6e"
   },
   "source": [
    "# AAMR Data preparation"
   ]
  },
  {
   "cell_type": "markdown",
   "metadata": {
    "id": "24743cf4a1e1"
   },
   "source": [
    "**_NOTE_**: This notebook has been tested in the following environment:\n",
    "\n",
    "* Python version = 3.10.13"
   ]
  },
  {
   "cell_type": "markdown",
   "metadata": {
    "id": "tvgnzT1CKxrO"
   },
   "source": [
    "## Overview\n",
    "\n",
    "Identify Data requirements for model training and prepare required data"
   ]
  },
  {
   "cell_type": "markdown",
   "metadata": {
    "id": "d975e698c9a4"
   },
   "source": [
    "### Objective\n",
    "\n",
    "Review data elements and generate synthentic data as required for training."
   ]
  },
  {
   "cell_type": "markdown",
   "metadata": {
    "id": "08d289fa873f"
   },
   "source": [
    "### Dataset\n",
    "\n",
    "{TODO: Include a paragraph with Dataset information and where to obtain it.} \n",
    "\n",
    "{TODO: Make sure the dataset is accessible to the public. **Googlers**: Add your dataset to the [public samples bucket](http://goto/cloudsamples#sample-storage-bucket) within gs://cloud-samples-data/vertex-ai, if it doesn't already exist there.}"
   ]
  },
  {
   "cell_type": "markdown",
   "metadata": {
    "id": "aed92deeb4a0"
   },
   "source": [
    "### Costs \n",
    "\n",
    "{TODO: Update the list of billable products that your tutorial uses.}\n",
    "\n",
    "This tutorial uses billable components of Google Cloud:\n",
    "\n",
    "* Vertex AI\n",
    "* {TODO: BigQuery}\n",
    "* Cloud Storage\n",
    "\n",
    "{TODO: Include links to pricing documentation for each product you listed above.\n",
    " NOTE: If you use BigQuery or Dataflow, you need to add this to the pricing.\n",
    "}\n",
    "\n",
    "Learn about [Vertex AI pricing](https://cloud.google.com/vertex-ai/pricing),\n",
    "{ TODO: [BigQuery pricing](https://cloud.google.com/bigquery/pricing), }\n",
    "and [Cloud Storage pricing](https://cloud.google.com/storage/pricing), \n",
    "and use the [Pricing Calculator](https://cloud.google.com/products/calculator/)\n",
    "to generate a cost estimate based on your projected usage."
   ]
  },
  {
   "cell_type": "markdown",
   "metadata": {
    "id": "i7EUnXsZhAGF",
    "tags": []
   },
   "source": [
    "## Installation\n",
    "\n",
    "Install the following packages required to execute this notebook. \n"
   ]
  },
  {
   "cell_type": "code",
   "execution_count": null,
   "metadata": {
    "id": "2b4ef9b72d43"
   },
   "outputs": [],
   "source": [
    "! pip3 install --upgrade --quiet google-cloud-aiplatform"
   ]
  },
  {
   "cell_type": "markdown",
   "metadata": {
    "id": "BF1j6f9HApxa",
    "jp-MarkdownHeadingCollapsed": true,
    "tags": []
   },
   "source": [
    "## Before you begin\n",
    "\n",
    "### Set up your Google Cloud project\n",
    "\n",
    "**The following steps are required, regardless of your notebook environment.**\n",
    "\n",
    "1. [Select or create a Google Cloud project](https://console.cloud.google.com/cloud-resource-manager). When you first create an account, you get a $300 free credit towards your compute/storage costs.\n",
    "\n",
    "2. [Make sure that billing is enabled for your project](https://cloud.google.com/billing/docs/how-to/modify-project).\n",
    "\n",
    "3. [Enable the Vertex AI API](https://console.cloud.google.com/flows/enableapi?apiid=aiplatform.googleapis.com).\n",
    "\n",
    "4. If you are running this notebook locally, you need to install the [Cloud SDK](https://cloud.google.com/sdk)."
   ]
  },
  {
   "cell_type": "markdown",
   "metadata": {
    "id": "WReHDGG5g0XY"
   },
   "source": [
    "#### Set your project ID\n",
    "\n",
    "**If you don't know your project ID**, try the following:\n",
    "* Run `gcloud config list`.\n",
    "* Run `gcloud projects list`.\n",
    "* See the support page: [Locate the project ID](https://support.google.com/googleapi/answer/7014113)"
   ]
  },
  {
   "cell_type": "code",
   "execution_count": null,
   "metadata": {
    "id": "oM1iC_MfAts1"
   },
   "outputs": [],
   "source": [
    "PROJECT_ID = \"aamr-432116\"  # @param {type:\"string\"}\n",
    "\n",
    "# Set the project id\n",
    "! gcloud config set project {PROJECT_ID}"
   ]
  },
  {
   "cell_type": "markdown",
   "metadata": {
    "id": "region"
   },
   "source": [
    "#### Region\n",
    "\n",
    "You can also change the `REGION` variable used by Vertex AI. Learn more about [Vertex AI regions](https://cloud.google.com/vertex-ai/docs/general/locations)."
   ]
  },
  {
   "cell_type": "code",
   "execution_count": 1,
   "metadata": {
    "id": "region"
   },
   "outputs": [],
   "source": [
    "REGION = \"us-central1\"  # @param {type: \"string\"}"
   ]
  },
  {
   "cell_type": "markdown",
   "metadata": {
    "id": "sBCra4QMA2wR"
   },
   "source": [
    "### Authenticate your Google Cloud account\n",
    "\n",
    "The Cloud SDK, code and other libraries currently run as the service account identity of the Workbench Instance running this notebook."
   ]
  },
  {
   "cell_type": "markdown",
   "metadata": {
    "id": "de775a3773ba"
   },
   "source": [
    "**- Authenticate the Cloud SDK with your credentials :**"
   ]
  },
  {
   "cell_type": "code",
   "execution_count": 2,
   "metadata": {
    "id": "254614fa0c46"
   },
   "outputs": [],
   "source": [
    "# ! gcloud auth login"
   ]
  },
  {
   "cell_type": "markdown",
   "metadata": {
    "id": "authlibtitle"
   },
   "source": [
    "**- Authenticate code and libraries with your credentials :**"
   ]
  },
  {
   "cell_type": "code",
   "execution_count": null,
   "metadata": {
    "id": "authlibcode"
   },
   "outputs": [],
   "source": [
    "# ! gcloud auth application-default"
   ]
  },
  {
   "cell_type": "markdown",
   "metadata": {
    "id": "f6b2ccc891ed"
   },
   "source": [
    "**- Service account or other**\n",
    "* See how to grant Cloud Storage permissions to your service account at https://cloud.google.com/storage/docs/gsutil/commands/iam#ch-examples."
   ]
  },
  {
   "cell_type": "markdown",
   "metadata": {
    "id": "zgPO1eR3CYjk"
   },
   "source": [
    "### Create a Cloud Storage bucket\n",
    "\n",
    "Create a storage bucket to store intermediate artifacts such as datasets.\n",
    "\n",
    "- *{Note to notebook author: For any user-provided strings that need to be unique (like bucket names or model ID's), append \"-unique\" to the end so proper testing can occur}*"
   ]
  },
  {
   "cell_type": "code",
   "execution_count": null,
   "metadata": {
    "id": "MzGDU7TWdts_"
   },
   "outputs": [],
   "source": [
    "BUCKET_URI = f\"gs://your-bucket-name-{PROJECT_ID}-unique\"  # @param {type:\"string\"}"
   ]
  },
  {
   "cell_type": "markdown",
   "metadata": {
    "id": "-EcIXiGsCePi"
   },
   "source": [
    "**Only if your bucket doesn't already exist**: Run the following cell to create your Cloud Storage bucket."
   ]
  },
  {
   "cell_type": "code",
   "execution_count": null,
   "metadata": {
    "id": "NIq7R4HZCfIc"
   },
   "outputs": [],
   "source": [
    "! gsutil mb -l {REGION} -p {PROJECT_ID} {BUCKET_URI}"
   ]
  },
  {
   "cell_type": "markdown",
   "metadata": {
    "id": "960505627ddf"
   },
   "source": [
    "### Import libraries"
   ]
  },
  {
   "cell_type": "code",
   "execution_count": null,
   "metadata": {
    "id": "PyQmSRbKA8r-"
   },
   "outputs": [],
   "source": [
    "from google.cloud import aiplatform"
   ]
  },
  {
   "cell_type": "markdown",
   "metadata": {
    "id": "init_aip:mbsdk,all"
   },
   "source": [
    "### Initialize Vertex AI SDK for Python\n",
    "\n",
    "Initialize the Vertex AI SDK for Python for your project."
   ]
  },
  {
   "cell_type": "code",
   "execution_count": null,
   "metadata": {
    "id": "init_aip:mbsdk,all"
   },
   "outputs": [],
   "source": [
    "aiplatform.init(project=PROJECT_ID, location=REGION, staging_bucket=BUCKET_URI)"
   ]
  },
  {
   "cell_type": "markdown",
   "metadata": {
    "id": "TpV-iwP9qw9c",
    "tags": []
   },
   "source": [
    "## Cleaning up\n",
    "\n",
    "To clean up all Google Cloud resources used in this project, you can [delete the Google Cloud\n",
    "project](https://cloud.google.com/resource-manager/docs/creating-managing-projects#shutting_down_projects) you used for the tutorial.\n",
    "\n",
    "Otherwise, you can delete the individual resources you created in this tutorial:\n",
    "\n",
    "{TODO: Include commands to delete individual resources below}"
   ]
  },
  {
   "cell_type": "code",
   "execution_count": 1,
   "metadata": {
    "id": "sx_vKniMq9ZX"
   },
   "outputs": [],
   "source": [
    "import os\n",
    "\n",
    "# Delete endpoint resource\n",
    "# e.g. `endpoint.delete()`\n",
    "\n",
    "# Delete model resource\n",
    "# e.g. `model.delete()`\n",
    "\n",
    "# Delete Cloud Storage objects that were created\n",
    "delete_bucket = False\n",
    "if delete_bucket or os.getenv(\"IS_TESTING\"):\n",
    "    ! gsutil -m rm -r $BUCKET_URI"
   ]
  },
  {
   "cell_type": "code",
   "execution_count": null,
   "metadata": {},
   "outputs": [],
   "source": []
  },
  {
   "cell_type": "markdown",
   "metadata": {
    "id": "TpV-iwP9qw9c",
    "tags": []
   },
   "source": [
    "## Data Preparation\n"
   ]
  },
  {
   "cell_type": "code",
   "execution_count": 1,
   "metadata": {},
   "outputs": [
    {
     "name": "stdout",
     "output_type": "stream",
     "text": [
      "\u001b[33mWARNING: Ignoring invalid distribution -rotobuf (/opt/conda/lib/python3.10/site-packages)\u001b[0m\n",
      "\u001b[33mWARNING: Ignoring invalid distribution -rotobuf (/opt/conda/lib/python3.10/site-packages)\u001b[0m\n",
      "Collecting ydata-synthetic\n",
      "  Downloading ydata_synthetic-1.4.0-py2.py3-none-any.whl (87 kB)\n",
      "\u001b[K     |████████████████████████████████| 87 kB 1.8 MB/s eta 0:00:011\n",
      "\u001b[?25hCollecting tensorflow==2.15.*\n",
      "  Downloading tensorflow-2.15.1-cp310-cp310-manylinux_2_17_x86_64.manylinux2014_x86_64.whl (475.2 MB)\n",
      "\u001b[K     |████████████████████████████████| 475.2 MB 16 kB/s s eta 0:00:01\n",
      "\u001b[?25hCollecting typeguard==4.2.*\n",
      "  Downloading typeguard-4.2.1-py3-none-any.whl (34 kB)\n",
      "Collecting pytest==7.4.*\n",
      "  Downloading pytest-7.4.4-py3-none-any.whl (325 kB)\n",
      "\u001b[K     |████████████████████████████████| 325 kB 92.7 MB/s eta 0:00:01\n",
      "\u001b[?25hRequirement already satisfied: numpy<2 in /opt/conda/lib/python3.10/site-packages (from ydata-synthetic) (1.24.3)\n",
      "Collecting easydict==1.10\n",
      "  Downloading easydict-1.10.tar.gz (6.4 kB)\n",
      "Requirement already satisfied: pandas<3 in /opt/conda/lib/python3.10/site-packages (from ydata-synthetic) (2.2.2)\n",
      "Collecting requests<2.31,>=2.28\n",
      "  Downloading requests-2.30.0-py3-none-any.whl (62 kB)\n",
      "\u001b[K     |████████████████████████████████| 62 kB 2.0 MB/s  eta 0:00:01\n",
      "\u001b[?25hRequirement already satisfied: matplotlib<4 in /opt/conda/lib/python3.10/site-packages (from ydata-synthetic) (3.9.1)\n",
      "Collecting tensorflow-probability[tf]\n",
      "  Downloading tensorflow_probability-0.24.0-py2.py3-none-any.whl (6.9 MB)\n",
      "\u001b[K     |████████████████████████████████| 6.9 MB 37.9 MB/s eta 0:00:01\n",
      "\u001b[?25hRequirement already satisfied: tqdm<5.0 in /opt/conda/lib/python3.10/site-packages (from ydata-synthetic) (4.63.0)\n",
      "Collecting pmlb==1.0.*\n",
      "  Downloading pmlb-1.0.1.post3-py3-none-any.whl (19 kB)\n",
      "Requirement already satisfied: scikit-learn<2 in /opt/conda/lib/python3.10/site-packages (from ydata-synthetic) (1.5.1)\n",
      "Requirement already satisfied: pyyaml>=5.3.1 in /opt/conda/lib/python3.10/site-packages (from pmlb==1.0.*->ydata-synthetic) (6.0.1)\n",
      "Requirement already satisfied: pluggy<2.0,>=0.12 in /opt/conda/lib/python3.10/site-packages (from pytest==7.4.*->ydata-synthetic) (1.5.0)\n",
      "Requirement already satisfied: tomli>=1.0.0 in /opt/conda/lib/python3.10/site-packages (from pytest==7.4.*->ydata-synthetic) (2.0.1)\n",
      "Requirement already satisfied: exceptiongroup>=1.0.0rc8 in /opt/conda/lib/python3.10/site-packages (from pytest==7.4.*->ydata-synthetic) (1.2.2)\n",
      "Requirement already satisfied: packaging in /opt/conda/lib/python3.10/site-packages (from pytest==7.4.*->ydata-synthetic) (24.1)\n",
      "Collecting iniconfig\n",
      "  Downloading iniconfig-2.0.0-py3-none-any.whl (5.9 kB)\n",
      "Collecting wrapt<1.15,>=1.11.0\n",
      "  Downloading wrapt-1.14.1-cp310-cp310-manylinux_2_5_x86_64.manylinux1_x86_64.manylinux_2_17_x86_64.manylinux2014_x86_64.whl (77 kB)\n",
      "\u001b[K     |████████████████████████████████| 77 kB 11.8 MB/s eta 0:00:01\n",
      "\u001b[?25hRequirement already satisfied: opt-einsum>=2.3.2 in /opt/conda/lib/python3.10/site-packages (from tensorflow==2.15.*->ydata-synthetic) (3.3.0)\n",
      "Requirement already satisfied: protobuf!=4.21.0,!=4.21.1,!=4.21.2,!=4.21.3,!=4.21.4,!=4.21.5,<5.0.0dev,>=3.20.3 in /opt/conda/lib/python3.10/site-packages (from tensorflow==2.15.*->ydata-synthetic) (3.20.3)\n",
      "Requirement already satisfied: setuptools in /opt/conda/lib/python3.10/site-packages (from tensorflow==2.15.*->ydata-synthetic) (61.2.0)\n",
      "Requirement already satisfied: grpcio<2.0,>=1.24.3 in /opt/conda/lib/python3.10/site-packages (from tensorflow==2.15.*->ydata-synthetic) (1.65.4)\n",
      "Requirement already satisfied: termcolor>=1.1.0 in /opt/conda/lib/python3.10/site-packages (from tensorflow==2.15.*->ydata-synthetic) (2.4.0)\n",
      "Requirement already satisfied: six>=1.12.0 in /opt/conda/lib/python3.10/site-packages (from tensorflow==2.15.*->ydata-synthetic) (1.16.0)\n",
      "Requirement already satisfied: typing-extensions>=3.6.6 in /opt/conda/lib/python3.10/site-packages (from tensorflow==2.15.*->ydata-synthetic) (4.12.2)\n",
      "Collecting tensorflow-estimator<2.16,>=2.15.0\n",
      "  Downloading tensorflow_estimator-2.15.0-py2.py3-none-any.whl (441 kB)\n",
      "\u001b[K     |████████████████████████████████| 441 kB 64.1 MB/s eta 0:00:01\n",
      "\u001b[?25hRequirement already satisfied: h5py>=2.9.0 in /opt/conda/lib/python3.10/site-packages (from tensorflow==2.15.*->ydata-synthetic) (3.11.0)\n",
      "Collecting keras<2.16,>=2.15.0\n",
      "  Downloading keras-2.15.0-py3-none-any.whl (1.7 MB)\n",
      "\u001b[K     |████████████████████████████████| 1.7 MB 60.0 MB/s eta 0:00:01\n",
      "\u001b[?25hRequirement already satisfied: tensorflow-io-gcs-filesystem>=0.23.1 in /opt/conda/lib/python3.10/site-packages (from tensorflow==2.15.*->ydata-synthetic) (0.37.1)\n",
      "Requirement already satisfied: google-pasta>=0.1.1 in /opt/conda/lib/python3.10/site-packages (from tensorflow==2.15.*->ydata-synthetic) (0.2.0)\n",
      "Requirement already satisfied: astunparse>=1.6.0 in /opt/conda/lib/python3.10/site-packages (from tensorflow==2.15.*->ydata-synthetic) (1.6.3)\n",
      "Collecting tensorboard<2.16,>=2.15\n",
      "  Downloading tensorboard-2.15.2-py3-none-any.whl (5.5 MB)\n",
      "\u001b[K     |████████████████████████████████| 5.5 MB 62.3 MB/s eta 0:00:01\n",
      "\u001b[?25hRequirement already satisfied: gast!=0.5.0,!=0.5.1,!=0.5.2,>=0.2.1 in /opt/conda/lib/python3.10/site-packages (from tensorflow==2.15.*->ydata-synthetic) (0.4.0)\n",
      "Requirement already satisfied: flatbuffers>=23.5.26 in /opt/conda/lib/python3.10/site-packages (from tensorflow==2.15.*->ydata-synthetic) (24.3.25)\n",
      "Requirement already satisfied: absl-py>=1.0.0 in /opt/conda/lib/python3.10/site-packages (from tensorflow==2.15.*->ydata-synthetic) (2.1.0)\n",
      "Requirement already satisfied: libclang>=13.0.0 in /opt/conda/lib/python3.10/site-packages (from tensorflow==2.15.*->ydata-synthetic) (18.1.1)\n",
      "Collecting ml-dtypes~=0.3.1\n",
      "  Downloading ml_dtypes-0.3.2-cp310-cp310-manylinux_2_17_x86_64.manylinux2014_x86_64.whl (2.2 MB)\n",
      "\u001b[K     |████████████████████████████████| 2.2 MB 50.6 MB/s eta 0:00:01\n",
      "\u001b[?25hRequirement already satisfied: wheel<1.0,>=0.23.0 in /opt/conda/lib/python3.10/site-packages (from astunparse>=1.6.0->tensorflow==2.15.*->ydata-synthetic) (0.37.1)\n",
      "Requirement already satisfied: kiwisolver>=1.3.1 in /opt/conda/lib/python3.10/site-packages (from matplotlib<4->ydata-synthetic) (1.4.5)\n",
      "Requirement already satisfied: python-dateutil>=2.7 in /opt/conda/lib/python3.10/site-packages (from matplotlib<4->ydata-synthetic) (2.9.0.post0)\n",
      "Requirement already satisfied: fonttools>=4.22.0 in /opt/conda/lib/python3.10/site-packages (from matplotlib<4->ydata-synthetic) (4.53.1)\n",
      "Requirement already satisfied: pyparsing>=2.3.1 in /opt/conda/lib/python3.10/site-packages (from matplotlib<4->ydata-synthetic) (3.1.2)\n",
      "Requirement already satisfied: pillow>=8 in /opt/conda/lib/python3.10/site-packages (from matplotlib<4->ydata-synthetic) (10.4.0)\n",
      "Requirement already satisfied: contourpy>=1.0.1 in /opt/conda/lib/python3.10/site-packages (from matplotlib<4->ydata-synthetic) (1.2.1)\n",
      "Requirement already satisfied: cycler>=0.10 in /opt/conda/lib/python3.10/site-packages (from matplotlib<4->ydata-synthetic) (0.12.1)\n",
      "Requirement already satisfied: pytz>=2020.1 in /opt/conda/lib/python3.10/site-packages (from pandas<3->ydata-synthetic) (2024.1)\n",
      "Requirement already satisfied: tzdata>=2022.7 in /opt/conda/lib/python3.10/site-packages (from pandas<3->ydata-synthetic) (2024.1)\n",
      "Requirement already satisfied: urllib3<3,>=1.21.1 in /opt/conda/lib/python3.10/site-packages (from requests<2.31,>=2.28->ydata-synthetic) (1.26.19)\n",
      "Requirement already satisfied: certifi>=2017.4.17 in /opt/conda/lib/python3.10/site-packages (from requests<2.31,>=2.28->ydata-synthetic) (2024.7.4)\n",
      "Requirement already satisfied: charset-normalizer<4,>=2 in /opt/conda/lib/python3.10/site-packages (from requests<2.31,>=2.28->ydata-synthetic) (2.0.4)\n",
      "Requirement already satisfied: idna<4,>=2.5 in /opt/conda/lib/python3.10/site-packages (from requests<2.31,>=2.28->ydata-synthetic) (3.3)\n",
      "Requirement already satisfied: threadpoolctl>=3.1.0 in /opt/conda/lib/python3.10/site-packages (from scikit-learn<2->ydata-synthetic) (3.5.0)\n",
      "Requirement already satisfied: scipy>=1.6.0 in /opt/conda/lib/python3.10/site-packages (from scikit-learn<2->ydata-synthetic) (1.13.1)\n",
      "Requirement already satisfied: joblib>=1.2.0 in /opt/conda/lib/python3.10/site-packages (from scikit-learn<2->ydata-synthetic) (1.4.2)\n",
      "Requirement already satisfied: markdown>=2.6.8 in /opt/conda/lib/python3.10/site-packages (from tensorboard<2.16,>=2.15->tensorflow==2.15.*->ydata-synthetic) (3.6)\n",
      "Collecting tensorboard-data-server<0.8.0,>=0.7.0\n",
      "  Using cached tensorboard_data_server-0.7.2-py3-none-manylinux_2_31_x86_64.whl (6.6 MB)\n",
      "Collecting google-auth-oauthlib<2,>=0.5\n",
      "  Downloading google_auth_oauthlib-1.2.1-py2.py3-none-any.whl (24 kB)\n",
      "Requirement already satisfied: werkzeug>=1.0.1 in /opt/conda/lib/python3.10/site-packages (from tensorboard<2.16,>=2.15->tensorflow==2.15.*->ydata-synthetic) (3.0.3)\n",
      "Requirement already satisfied: google-auth<3,>=1.6.3 in /opt/conda/lib/python3.10/site-packages (from tensorboard<2.16,>=2.15->tensorflow==2.15.*->ydata-synthetic) (2.32.0)\n",
      "Requirement already satisfied: pyasn1-modules>=0.2.1 in /opt/conda/lib/python3.10/site-packages (from google-auth<3,>=1.6.3->tensorboard<2.16,>=2.15->tensorflow==2.15.*->ydata-synthetic) (0.4.0)\n",
      "Requirement already satisfied: cachetools<6.0,>=2.0.0 in /opt/conda/lib/python3.10/site-packages (from google-auth<3,>=1.6.3->tensorboard<2.16,>=2.15->tensorflow==2.15.*->ydata-synthetic) (5.4.0)\n",
      "Requirement already satisfied: rsa<5,>=3.1.4 in /opt/conda/lib/python3.10/site-packages (from google-auth<3,>=1.6.3->tensorboard<2.16,>=2.15->tensorflow==2.15.*->ydata-synthetic) (4.9)\n",
      "Requirement already satisfied: requests-oauthlib>=0.7.0 in /opt/conda/lib/python3.10/site-packages (from google-auth-oauthlib<2,>=0.5->tensorboard<2.16,>=2.15->tensorflow==2.15.*->ydata-synthetic) (2.0.0)\n",
      "Requirement already satisfied: pyasn1<0.7.0,>=0.4.6 in /opt/conda/lib/python3.10/site-packages (from pyasn1-modules>=0.2.1->google-auth<3,>=1.6.3->tensorboard<2.16,>=2.15->tensorflow==2.15.*->ydata-synthetic) (0.6.0)\n",
      "Requirement already satisfied: oauthlib>=3.0.0 in /opt/conda/lib/python3.10/site-packages (from requests-oauthlib>=0.7.0->google-auth-oauthlib<2,>=0.5->tensorboard<2.16,>=2.15->tensorflow==2.15.*->ydata-synthetic) (3.2.2)\n",
      "Requirement already satisfied: MarkupSafe>=2.1.1 in /opt/conda/lib/python3.10/site-packages (from werkzeug>=1.0.1->tensorboard<2.16,>=2.15->tensorflow==2.15.*->ydata-synthetic) (2.1.5)\n",
      "Requirement already satisfied: cloudpickle>=1.3 in /opt/conda/lib/python3.10/site-packages (from tensorflow-probability[tf]->ydata-synthetic) (3.0.0)\n",
      "Requirement already satisfied: dm-tree in /opt/conda/lib/python3.10/site-packages (from tensorflow-probability[tf]->ydata-synthetic) (0.1.8)\n",
      "Requirement already satisfied: decorator in /opt/conda/lib/python3.10/site-packages (from tensorflow-probability[tf]->ydata-synthetic) (5.1.1)\n",
      "Collecting tensorflow-probability[tf]\n",
      "  Downloading tensorflow_probability-0.23.0-py2.py3-none-any.whl (6.9 MB)\n",
      "\u001b[K     |████████████████████████████████| 6.9 MB 62.9 MB/s eta 0:00:01\n",
      "\u001b[33mWARNING: tensorflow-probability 0.23.0 does not provide the extra 'tf'\u001b[0m\n",
      "\u001b[?25hBuilding wheels for collected packages: easydict\n",
      "  Building wheel for easydict (setup.py) ... \u001b[?25ldone\n",
      "\u001b[?25h  Created wheel for easydict: filename=easydict-1.10-py3-none-any.whl size=6506 sha256=49be463243a2b8554fc45cee0ef506f07898a9ec9a6163e1ef1da896c3baefc0\n",
      "  Stored in directory: /home/jupyter/.cache/pip/wheels/b7/e3/8c/f814820ac7ef5fd96f38759ce0d3dc51166a3169008b31da53\n",
      "Successfully built easydict\n",
      "\u001b[33mWARNING: Ignoring invalid distribution -rotobuf (/opt/conda/lib/python3.10/site-packages)\u001b[0m\n",
      "Installing collected packages: requests, tensorboard-data-server, google-auth-oauthlib, wrapt, tensorflow-probability, tensorflow-estimator, tensorboard, ml-dtypes, keras, iniconfig, typeguard, tensorflow, pytest, pmlb, easydict, ydata-synthetic\n",
      "  Attempting uninstall: requests\n",
      "\u001b[33m    WARNING: Ignoring invalid distribution -rotobuf (/opt/conda/lib/python3.10/site-packages)\u001b[0m\n",
      "    Found existing installation: requests 2.32.3\n",
      "    Uninstalling requests-2.32.3:\n",
      "      Successfully uninstalled requests-2.32.3\n",
      "  Attempting uninstall: tensorboard-data-server\n",
      "\u001b[33m    WARNING: Ignoring invalid distribution -rotobuf (/opt/conda/lib/python3.10/site-packages)\u001b[0m\n",
      "    Found existing installation: tensorboard-data-server 0.6.1\n",
      "    Uninstalling tensorboard-data-server-0.6.1:\n",
      "      Successfully uninstalled tensorboard-data-server-0.6.1\n",
      "  Attempting uninstall: google-auth-oauthlib\n",
      "    Found existing installation: google-auth-oauthlib 0.4.6\n",
      "    Uninstalling google-auth-oauthlib-0.4.6:\n",
      "      Successfully uninstalled google-auth-oauthlib-0.4.6\n",
      "  Attempting uninstall: wrapt\n",
      "\u001b[33m    WARNING: Ignoring invalid distribution -rotobuf (/opt/conda/lib/python3.10/site-packages)\u001b[0m\n",
      "    Found existing installation: wrapt 1.16.0\n",
      "    Uninstalling wrapt-1.16.0:\n",
      "      Successfully uninstalled wrapt-1.16.0\n",
      "\u001b[31mERROR: Could not install packages due to an OSError: [Errno 13] Permission denied: 'importer.cpython-310.pyc'\n",
      "Consider using the `--user` option or check the permissions.\n",
      "\u001b[0m\n",
      "\u001b[33mWARNING: Ignoring invalid distribution -rotobuf (/opt/conda/lib/python3.10/site-packages)\u001b[0m\n",
      "\u001b[33mWARNING: Ignoring invalid distribution -rotobuf (/opt/conda/lib/python3.10/site-packages)\u001b[0m\n",
      "\u001b[33mWARNING: Ignoring invalid distribution -rotobuf (/opt/conda/lib/python3.10/site-packages)\u001b[0m\n"
     ]
    }
   ],
   "source": [
    "%%capture\n",
    "! pip install ydata-synthetic"
   ]
  },
  {
   "cell_type": "code",
   "execution_count": null,
   "metadata": {},
   "outputs": [
    {
     "name": "stdout",
     "output_type": "stream",
     "text": [
      "\u001b[33mWARNING: Ignoring invalid distribution -rotobuf (/opt/conda/lib/python3.10/site-packages)\u001b[0m\n",
      "\u001b[33mWARNING: Ignoring invalid distribution -rotobuf (/opt/conda/lib/python3.10/site-packages)\u001b[0m\n",
      "Collecting ydata-synthetic[streamlit]\n",
      "  Using cached ydata_synthetic-1.4.0-py2.py3-none-any.whl (87 kB)\n",
      "Requirement already satisfied: tqdm<5.0 in /opt/conda/lib/python3.10/site-packages (from ydata-synthetic[streamlit]) (4.63.0)\n",
      "Collecting tensorflow==2.15.*\n",
      "  Using cached tensorflow-2.15.1-cp310-cp310-manylinux_2_17_x86_64.manylinux2014_x86_64.whl (475.2 MB)\n",
      "Collecting easydict==1.10\n",
      "  Using cached easydict-1.10-py3-none-any.whl\n",
      "Requirement already satisfied: requests<2.31,>=2.28 in /opt/conda/lib/python3.10/site-packages (from ydata-synthetic[streamlit]) (2.30.0)\n",
      "Requirement already satisfied: matplotlib<4 in /opt/conda/lib/python3.10/site-packages (from ydata-synthetic[streamlit]) (3.9.1)\n",
      "Collecting typeguard==4.2.*\n",
      "  Using cached typeguard-4.2.1-py3-none-any.whl (34 kB)\n",
      "Collecting pmlb==1.0.*\n",
      "  Using cached pmlb-1.0.1.post3-py3-none-any.whl (19 kB)\n",
      "Collecting pytest==7.4.*\n",
      "  Using cached pytest-7.4.4-py3-none-any.whl (325 kB)\n",
      "Requirement already satisfied: numpy<2 in /opt/conda/lib/python3.10/site-packages (from ydata-synthetic[streamlit]) (1.24.3)\n",
      "Requirement already satisfied: scikit-learn<2 in /opt/conda/lib/python3.10/site-packages (from ydata-synthetic[streamlit]) (1.5.1)\n",
      "Requirement already satisfied: pandas<3 in /opt/conda/lib/python3.10/site-packages (from ydata-synthetic[streamlit]) (2.2.2)\n",
      "Collecting tensorflow-probability[tf]\n",
      "  Using cached tensorflow_probability-0.24.0-py2.py3-none-any.whl (6.9 MB)\n",
      "Collecting streamlit-pandas-profiling==0.1.3\n",
      "  Downloading streamlit_pandas_profiling-0.1.3-py3-none-any.whl (259 kB)\n",
      "\u001b[K     |████████████████████████████████| 259 kB 1.3 MB/s eta 0:00:01\n",
      "\u001b[?25hRequirement already satisfied: typing-extensions>=3.10.0 in /opt/conda/lib/python3.10/site-packages (from ydata-synthetic[streamlit]) (4.12.2)\n",
      "Collecting streamlit==1.29.0\n",
      "  Downloading streamlit-1.29.0-py2.py3-none-any.whl (8.4 MB)\n",
      "\u001b[K     |████████████████████████████████| 8.4 MB 19.7 MB/s eta 0:00:01\n",
      "\u001b[?25hCollecting ydata-sdk>=0.2.1\n",
      "  Downloading ydata_sdk-0.12.2-py310-none-any.whl (122 kB)\n",
      "\u001b[K     |████████████████████████████████| 122 kB 88.4 MB/s eta 0:00:01\n",
      "\u001b[?25hRequirement already satisfied: ydata-profiling<5 in /opt/conda/lib/python3.10/site-packages (from ydata-synthetic[streamlit]) (4.9.0)\n",
      "Requirement already satisfied: pyyaml>=5.3.1 in /opt/conda/lib/python3.10/site-packages (from pmlb==1.0.*->ydata-synthetic[streamlit]) (6.0.1)\n",
      "Requirement already satisfied: pluggy<2.0,>=0.12 in /opt/conda/lib/python3.10/site-packages (from pytest==7.4.*->ydata-synthetic[streamlit]) (1.5.0)\n",
      "Requirement already satisfied: exceptiongroup>=1.0.0rc8 in /opt/conda/lib/python3.10/site-packages (from pytest==7.4.*->ydata-synthetic[streamlit]) (1.2.2)\n",
      "Requirement already satisfied: tomli>=1.0.0 in /opt/conda/lib/python3.10/site-packages (from pytest==7.4.*->ydata-synthetic[streamlit]) (2.0.1)\n",
      "Requirement already satisfied: packaging in /opt/conda/lib/python3.10/site-packages (from pytest==7.4.*->ydata-synthetic[streamlit]) (24.1)\n",
      "Collecting iniconfig\n",
      "  Using cached iniconfig-2.0.0-py3-none-any.whl (5.9 kB)\n",
      "Requirement already satisfied: cachetools<6,>=4.0 in /opt/conda/lib/python3.10/site-packages (from streamlit==1.29.0->ydata-synthetic[streamlit]) (5.4.0)\n",
      "Requirement already satisfied: protobuf<5,>=3.20 in /opt/conda/lib/python3.10/site-packages (from streamlit==1.29.0->ydata-synthetic[streamlit]) (3.20.3)\n",
      "Collecting packaging\n",
      "  Downloading packaging-23.2-py3-none-any.whl (53 kB)\n",
      "\u001b[K     |████████████████████████████████| 53 kB 3.0 MB/s  eta 0:00:01\n",
      "\u001b[?25hRequirement already satisfied: pyarrow>=6.0 in /opt/conda/lib/python3.10/site-packages (from streamlit==1.29.0->ydata-synthetic[streamlit]) (17.0.0)\n",
      "Collecting altair<6,>=4.0\n",
      "  Downloading altair-5.4.0-py3-none-any.whl (671 kB)\n",
      "\u001b[K     |████████████████████████████████| 671 kB 63.8 MB/s eta 0:00:01\n",
      "\u001b[?25hRequirement already satisfied: gitpython!=3.1.19,<4,>=3.0.7 in /opt/conda/lib/python3.10/site-packages (from streamlit==1.29.0->ydata-synthetic[streamlit]) (3.1.43)\n",
      "Collecting blinker<2,>=1.0.0\n",
      "  Downloading blinker-1.8.2-py3-none-any.whl (9.5 kB)\n",
      "Requirement already satisfied: rich<14,>=10.14.0 in /opt/conda/lib/python3.10/site-packages (from streamlit==1.29.0->ydata-synthetic[streamlit]) (13.7.1)\n",
      "Requirement already satisfied: toml<2,>=0.10.1 in /opt/conda/lib/python3.10/site-packages (from streamlit==1.29.0->ydata-synthetic[streamlit]) (0.10.2)\n",
      "Requirement already satisfied: click<9,>=7.0 in /opt/conda/lib/python3.10/site-packages (from streamlit==1.29.0->ydata-synthetic[streamlit]) (8.1.7)\n",
      "Requirement already satisfied: tornado<7,>=6.0.3 in /opt/conda/lib/python3.10/site-packages (from streamlit==1.29.0->ydata-synthetic[streamlit]) (6.4.1)\n",
      "Requirement already satisfied: python-dateutil<3,>=2.7.3 in /opt/conda/lib/python3.10/site-packages (from streamlit==1.29.0->ydata-synthetic[streamlit]) (2.9.0.post0)\n",
      "Collecting tenacity<9,>=8.1.0\n",
      "  Downloading tenacity-8.5.0-py3-none-any.whl (28 kB)\n",
      "Collecting watchdog>=2.1.5\n",
      "  Downloading watchdog-4.0.2-py3-none-manylinux2014_x86_64.whl (82 kB)\n",
      "\u001b[K     |████████████████████████████████| 82 kB 2.2 MB/s  eta 0:00:01\n",
      "\u001b[?25hCollecting validators<1,>=0.2\n",
      "  Downloading validators-0.33.0-py3-none-any.whl (43 kB)\n",
      "\u001b[K     |████████████████████████████████| 43 kB 3.3 MB/s  eta 0:00:01\n",
      "\u001b[?25hCollecting importlib-metadata<7,>=1.4\n",
      "  Downloading importlib_metadata-6.11.0-py3-none-any.whl (23 kB)\n",
      "Collecting tzlocal<6,>=1.1\n",
      "  Downloading tzlocal-5.2-py3-none-any.whl (17 kB)\n",
      "Requirement already satisfied: pillow<11,>=7.1.0 in /opt/conda/lib/python3.10/site-packages (from streamlit==1.29.0->ydata-synthetic[streamlit]) (10.4.0)\n",
      "Collecting pydeck<1,>=0.8.0b4\n",
      "  Downloading pydeck-0.9.1-py2.py3-none-any.whl (6.9 MB)\n",
      "\u001b[K     |████████████████████████████████| 6.9 MB 67.8 MB/s eta 0:00:01\n",
      "\u001b[?25hRequirement already satisfied: pandas-profiling in /opt/conda/lib/python3.10/site-packages (from streamlit-pandas-profiling==0.1.3->ydata-synthetic[streamlit]) (3.6.6)\n",
      "Requirement already satisfied: libclang>=13.0.0 in /opt/conda/lib/python3.10/site-packages (from tensorflow==2.15.*->ydata-synthetic[streamlit]) (18.1.1)\n",
      "Collecting tensorboard<2.16,>=2.15\n",
      "  Using cached tensorboard-2.15.2-py3-none-any.whl (5.5 MB)\n",
      "Collecting keras<2.16,>=2.15.0\n",
      "  Using cached keras-2.15.0-py3-none-any.whl (1.7 MB)\n",
      "Collecting tensorflow-estimator<2.16,>=2.15.0\n",
      "  Using cached tensorflow_estimator-2.15.0-py2.py3-none-any.whl (441 kB)\n",
      "Collecting ml-dtypes~=0.3.1\n",
      "  Using cached ml_dtypes-0.3.2-cp310-cp310-manylinux_2_17_x86_64.manylinux2014_x86_64.whl (2.2 MB)\n",
      "Requirement already satisfied: flatbuffers>=23.5.26 in /opt/conda/lib/python3.10/site-packages (from tensorflow==2.15.*->ydata-synthetic[streamlit]) (24.3.25)\n",
      "Requirement already satisfied: opt-einsum>=2.3.2 in /opt/conda/lib/python3.10/site-packages (from tensorflow==2.15.*->ydata-synthetic[streamlit]) (3.3.0)\n",
      "Requirement already satisfied: wrapt<1.15,>=1.11.0 in /opt/conda/lib/python3.10/site-packages (from tensorflow==2.15.*->ydata-synthetic[streamlit]) (1.14.1)\n",
      "Requirement already satisfied: tensorflow-io-gcs-filesystem>=0.23.1 in /opt/conda/lib/python3.10/site-packages (from tensorflow==2.15.*->ydata-synthetic[streamlit]) (0.37.1)\n",
      "Requirement already satisfied: grpcio<2.0,>=1.24.3 in /opt/conda/lib/python3.10/site-packages (from tensorflow==2.15.*->ydata-synthetic[streamlit]) (1.65.4)\n",
      "Requirement already satisfied: google-pasta>=0.1.1 in /opt/conda/lib/python3.10/site-packages (from tensorflow==2.15.*->ydata-synthetic[streamlit]) (0.2.0)\n",
      "Requirement already satisfied: setuptools in /opt/conda/lib/python3.10/site-packages (from tensorflow==2.15.*->ydata-synthetic[streamlit]) (61.2.0)\n",
      "Requirement already satisfied: astunparse>=1.6.0 in /opt/conda/lib/python3.10/site-packages (from tensorflow==2.15.*->ydata-synthetic[streamlit]) (1.6.3)\n",
      "Requirement already satisfied: termcolor>=1.1.0 in /opt/conda/lib/python3.10/site-packages (from tensorflow==2.15.*->ydata-synthetic[streamlit]) (2.4.0)\n",
      "Requirement already satisfied: six>=1.12.0 in /opt/conda/lib/python3.10/site-packages (from tensorflow==2.15.*->ydata-synthetic[streamlit]) (1.16.0)\n",
      "Requirement already satisfied: h5py>=2.9.0 in /opt/conda/lib/python3.10/site-packages (from tensorflow==2.15.*->ydata-synthetic[streamlit]) (3.11.0)\n",
      "Requirement already satisfied: gast!=0.5.0,!=0.5.1,!=0.5.2,>=0.2.1 in /opt/conda/lib/python3.10/site-packages (from tensorflow==2.15.*->ydata-synthetic[streamlit]) (0.4.0)\n",
      "Requirement already satisfied: absl-py>=1.0.0 in /opt/conda/lib/python3.10/site-packages (from tensorflow==2.15.*->ydata-synthetic[streamlit]) (2.1.0)\n",
      "Requirement already satisfied: jinja2 in /opt/conda/lib/python3.10/site-packages (from altair<6,>=4.0->streamlit==1.29.0->ydata-synthetic[streamlit]) (3.1.4)\n",
      "Requirement already satisfied: jsonschema>=3.0 in /opt/conda/lib/python3.10/site-packages (from altair<6,>=4.0->streamlit==1.29.0->ydata-synthetic[streamlit]) (4.23.0)\n",
      "Collecting narwhals>=1.1.0\n",
      "  Downloading narwhals-1.3.0-py3-none-any.whl (138 kB)\n",
      "\u001b[K     |████████████████████████████████| 138 kB 65.8 MB/s eta 0:00:01\n",
      "\u001b[?25hRequirement already satisfied: wheel<1.0,>=0.23.0 in /opt/conda/lib/python3.10/site-packages (from astunparse>=1.6.0->tensorflow==2.15.*->ydata-synthetic[streamlit]) (0.37.1)\n",
      "Requirement already satisfied: gitdb<5,>=4.0.1 in /opt/conda/lib/python3.10/site-packages (from gitpython!=3.1.19,<4,>=3.0.7->streamlit==1.29.0->ydata-synthetic[streamlit]) (4.0.11)\n",
      "Requirement already satisfied: smmap<6,>=3.0.1 in /opt/conda/lib/python3.10/site-packages (from gitdb<5,>=4.0.1->gitpython!=3.1.19,<4,>=3.0.7->streamlit==1.29.0->ydata-synthetic[streamlit]) (5.0.1)\n",
      "Requirement already satisfied: zipp>=0.5 in /opt/conda/lib/python3.10/site-packages (from importlib-metadata<7,>=1.4->streamlit==1.29.0->ydata-synthetic[streamlit]) (3.19.2)\n",
      "Requirement already satisfied: attrs>=22.2.0 in /opt/conda/lib/python3.10/site-packages (from jsonschema>=3.0->altair<6,>=4.0->streamlit==1.29.0->ydata-synthetic[streamlit]) (23.2.0)\n",
      "Requirement already satisfied: referencing>=0.28.4 in /opt/conda/lib/python3.10/site-packages (from jsonschema>=3.0->altair<6,>=4.0->streamlit==1.29.0->ydata-synthetic[streamlit]) (0.35.1)\n",
      "Requirement already satisfied: jsonschema-specifications>=2023.03.6 in /opt/conda/lib/python3.10/site-packages (from jsonschema>=3.0->altair<6,>=4.0->streamlit==1.29.0->ydata-synthetic[streamlit]) (2023.12.1)\n",
      "Requirement already satisfied: rpds-py>=0.7.1 in /opt/conda/lib/python3.10/site-packages (from jsonschema>=3.0->altair<6,>=4.0->streamlit==1.29.0->ydata-synthetic[streamlit]) (0.19.1)\n",
      "Requirement already satisfied: kiwisolver>=1.3.1 in /opt/conda/lib/python3.10/site-packages (from matplotlib<4->ydata-synthetic[streamlit]) (1.4.5)\n",
      "Requirement already satisfied: fonttools>=4.22.0 in /opt/conda/lib/python3.10/site-packages (from matplotlib<4->ydata-synthetic[streamlit]) (4.53.1)\n",
      "Requirement already satisfied: contourpy>=1.0.1 in /opt/conda/lib/python3.10/site-packages (from matplotlib<4->ydata-synthetic[streamlit]) (1.2.1)\n",
      "Requirement already satisfied: cycler>=0.10 in /opt/conda/lib/python3.10/site-packages (from matplotlib<4->ydata-synthetic[streamlit]) (0.12.1)\n",
      "Requirement already satisfied: pyparsing>=2.3.1 in /opt/conda/lib/python3.10/site-packages (from matplotlib<4->ydata-synthetic[streamlit]) (3.1.2)\n",
      "Requirement already satisfied: tzdata>=2022.7 in /opt/conda/lib/python3.10/site-packages (from pandas<3->ydata-synthetic[streamlit]) (2024.1)\n",
      "Requirement already satisfied: pytz>=2020.1 in /opt/conda/lib/python3.10/site-packages (from pandas<3->ydata-synthetic[streamlit]) (2024.1)\n",
      "Requirement already satisfied: MarkupSafe>=2.0 in /opt/conda/lib/python3.10/site-packages (from jinja2->altair<6,>=4.0->streamlit==1.29.0->ydata-synthetic[streamlit]) (2.1.5)\n",
      "Requirement already satisfied: charset-normalizer<4,>=2 in /opt/conda/lib/python3.10/site-packages (from requests<2.31,>=2.28->ydata-synthetic[streamlit]) (2.0.4)\n",
      "Requirement already satisfied: urllib3<3,>=1.21.1 in /opt/conda/lib/python3.10/site-packages (from requests<2.31,>=2.28->ydata-synthetic[streamlit]) (1.26.19)\n",
      "Requirement already satisfied: certifi>=2017.4.17 in /opt/conda/lib/python3.10/site-packages (from requests<2.31,>=2.28->ydata-synthetic[streamlit]) (2024.7.4)\n",
      "Requirement already satisfied: idna<4,>=2.5 in /opt/conda/lib/python3.10/site-packages (from requests<2.31,>=2.28->ydata-synthetic[streamlit]) (3.3)\n",
      "Requirement already satisfied: markdown-it-py>=2.2.0 in /opt/conda/lib/python3.10/site-packages (from rich<14,>=10.14.0->streamlit==1.29.0->ydata-synthetic[streamlit]) (3.0.0)\n",
      "Requirement already satisfied: pygments<3.0.0,>=2.13.0 in /opt/conda/lib/python3.10/site-packages (from rich<14,>=10.14.0->streamlit==1.29.0->ydata-synthetic[streamlit]) (2.18.0)\n",
      "Requirement already satisfied: mdurl~=0.1 in /opt/conda/lib/python3.10/site-packages (from markdown-it-py>=2.2.0->rich<14,>=10.14.0->streamlit==1.29.0->ydata-synthetic[streamlit]) (0.1.2)\n",
      "Requirement already satisfied: scipy>=1.6.0 in /opt/conda/lib/python3.10/site-packages (from scikit-learn<2->ydata-synthetic[streamlit]) (1.13.1)\n",
      "Requirement already satisfied: threadpoolctl>=3.1.0 in /opt/conda/lib/python3.10/site-packages (from scikit-learn<2->ydata-synthetic[streamlit]) (3.5.0)\n",
      "Requirement already satisfied: joblib>=1.2.0 in /opt/conda/lib/python3.10/site-packages (from scikit-learn<2->ydata-synthetic[streamlit]) (1.4.2)\n",
      "Requirement already satisfied: werkzeug>=1.0.1 in /opt/conda/lib/python3.10/site-packages (from tensorboard<2.16,>=2.15->tensorflow==2.15.*->ydata-synthetic[streamlit]) (3.0.3)\n",
      "Requirement already satisfied: tensorboard-data-server<0.8.0,>=0.7.0 in /opt/conda/lib/python3.10/site-packages (from tensorboard<2.16,>=2.15->tensorflow==2.15.*->ydata-synthetic[streamlit]) (0.7.2)\n",
      "Requirement already satisfied: markdown>=2.6.8 in /opt/conda/lib/python3.10/site-packages (from tensorboard<2.16,>=2.15->tensorflow==2.15.*->ydata-synthetic[streamlit]) (3.6)\n",
      "Requirement already satisfied: google-auth-oauthlib<2,>=0.5 in /opt/conda/lib/python3.10/site-packages (from tensorboard<2.16,>=2.15->tensorflow==2.15.*->ydata-synthetic[streamlit]) (1.2.1)\n",
      "Requirement already satisfied: google-auth<3,>=1.6.3 in /opt/conda/lib/python3.10/site-packages (from tensorboard<2.16,>=2.15->tensorflow==2.15.*->ydata-synthetic[streamlit]) (2.32.0)\n",
      "Requirement already satisfied: rsa<5,>=3.1.4 in /opt/conda/lib/python3.10/site-packages (from google-auth<3,>=1.6.3->tensorboard<2.16,>=2.15->tensorflow==2.15.*->ydata-synthetic[streamlit]) (4.9)\n",
      "Requirement already satisfied: pyasn1-modules>=0.2.1 in /opt/conda/lib/python3.10/site-packages (from google-auth<3,>=1.6.3->tensorboard<2.16,>=2.15->tensorflow==2.15.*->ydata-synthetic[streamlit]) (0.4.0)\n",
      "Requirement already satisfied: requests-oauthlib>=0.7.0 in /opt/conda/lib/python3.10/site-packages (from google-auth-oauthlib<2,>=0.5->tensorboard<2.16,>=2.15->tensorflow==2.15.*->ydata-synthetic[streamlit]) (2.0.0)\n",
      "Requirement already satisfied: pyasn1<0.7.0,>=0.4.6 in /opt/conda/lib/python3.10/site-packages (from pyasn1-modules>=0.2.1->google-auth<3,>=1.6.3->tensorboard<2.16,>=2.15->tensorflow==2.15.*->ydata-synthetic[streamlit]) (0.6.0)\n",
      "Requirement already satisfied: oauthlib>=3.0.0 in /opt/conda/lib/python3.10/site-packages (from requests-oauthlib>=0.7.0->google-auth-oauthlib<2,>=0.5->tensorboard<2.16,>=2.15->tensorflow==2.15.*->ydata-synthetic[streamlit]) (3.2.2)\n",
      "Requirement already satisfied: htmlmin==0.1.12 in /opt/conda/lib/python3.10/site-packages (from ydata-profiling<5->ydata-synthetic[streamlit]) (0.1.12)\n",
      "Requirement already satisfied: multimethod<2,>=1.4 in /opt/conda/lib/python3.10/site-packages (from ydata-profiling<5->ydata-synthetic[streamlit]) (1.12)\n",
      "Requirement already satisfied: statsmodels<1,>=0.13.2 in /opt/conda/lib/python3.10/site-packages (from ydata-profiling<5->ydata-synthetic[streamlit]) (0.14.2)\n",
      "Requirement already satisfied: visions[type_image_path]<0.7.7,>=0.7.5 in /opt/conda/lib/python3.10/site-packages (from ydata-profiling<5->ydata-synthetic[streamlit]) (0.7.6)\n",
      "Requirement already satisfied: imagehash==4.3.1 in /opt/conda/lib/python3.10/site-packages (from ydata-profiling<5->ydata-synthetic[streamlit]) (4.3.1)\n",
      "Requirement already satisfied: numba<1,>=0.56.0 in /opt/conda/lib/python3.10/site-packages (from ydata-profiling<5->ydata-synthetic[streamlit]) (0.60.0)\n",
      "Requirement already satisfied: dacite>=1.8 in /opt/conda/lib/python3.10/site-packages (from ydata-profiling<5->ydata-synthetic[streamlit]) (1.8.1)\n",
      "Requirement already satisfied: seaborn<0.14,>=0.10.1 in /opt/conda/lib/python3.10/site-packages (from ydata-profiling<5->ydata-synthetic[streamlit]) (0.13.2)\n",
      "Requirement already satisfied: pydantic>=2 in /opt/conda/lib/python3.10/site-packages (from ydata-profiling<5->ydata-synthetic[streamlit]) (2.8.2)\n",
      "Requirement already satisfied: phik<0.13,>=0.11.1 in /opt/conda/lib/python3.10/site-packages (from ydata-profiling<5->ydata-synthetic[streamlit]) (0.12.4)\n",
      "Requirement already satisfied: wordcloud>=1.9.1 in /opt/conda/lib/python3.10/site-packages (from ydata-profiling<5->ydata-synthetic[streamlit]) (1.9.3)\n",
      "Requirement already satisfied: PyWavelets in /opt/conda/lib/python3.10/site-packages (from imagehash==4.3.1->ydata-profiling<5->ydata-synthetic[streamlit]) (1.6.0)\n",
      "Requirement already satisfied: llvmlite<0.44,>=0.43.0dev0 in /opt/conda/lib/python3.10/site-packages (from numba<1,>=0.56.0->ydata-profiling<5->ydata-synthetic[streamlit]) (0.43.0)\n",
      "Requirement already satisfied: annotated-types>=0.4.0 in /opt/conda/lib/python3.10/site-packages (from pydantic>=2->ydata-profiling<5->ydata-synthetic[streamlit]) (0.7.0)\n",
      "Requirement already satisfied: pydantic-core==2.20.1 in /opt/conda/lib/python3.10/site-packages (from pydantic>=2->ydata-profiling<5->ydata-synthetic[streamlit]) (2.20.1)\n",
      "Requirement already satisfied: patsy>=0.5.6 in /opt/conda/lib/python3.10/site-packages (from statsmodels<1,>=0.13.2->ydata-profiling<5->ydata-synthetic[streamlit]) (0.5.6)\n",
      "Requirement already satisfied: networkx>=2.4 in /opt/conda/lib/python3.10/site-packages (from visions[type_image_path]<0.7.7,>=0.7.5->ydata-profiling<5->ydata-synthetic[streamlit]) (3.3)\n",
      "Collecting ydata-sdk>=0.2.1\n",
      "  Downloading ydata_sdk-0.12.1-py310-none-any.whl (122 kB)\n",
      "\u001b[K     |████████████████████████████████| 122 kB 64.8 MB/s eta 0:00:01\n",
      "\u001b[?25h  Downloading ydata_sdk-0.12.0-py310-none-any.whl (122 kB)\n",
      "\u001b[K     |████████████████████████████████| 122 kB 63.7 MB/s eta 0:00:01\n",
      "\u001b[?25h  Downloading ydata_sdk-0.11.1-py310-none-any.whl (119 kB)\n",
      "\u001b[K     |████████████████████████████████| 119 kB 59.0 MB/s eta 0:00:01\n",
      "\u001b[?25h  Downloading ydata_sdk-0.11.0-py310-none-any.whl (118 kB)\n",
      "\u001b[K     |████████████████████████████████| 118 kB 61.1 MB/s eta 0:00:01\n",
      "\u001b[?25h  Downloading ydata_sdk-0.10.0-py310-none-any.whl (113 kB)\n",
      "\u001b[K     |████████████████████████████████| 113 kB 64.3 MB/s eta 0:00:01\n",
      "\u001b[?25h  Downloading ydata_sdk-0.9.0-py310-none-any.whl (113 kB)\n",
      "\u001b[K     |████████████████████████████████| 113 kB 64.3 MB/s eta 0:00:01\n",
      "\u001b[?25h  Downloading ydata_sdk-0.8.0-py310-none-any.whl (113 kB)\n",
      "\u001b[K     |████████████████████████████████| 113 kB 87.7 MB/s eta 0:00:01\n",
      "\u001b[?25h  Downloading ydata_sdk-0.7.0-py310-none-any.whl (109 kB)\n",
      "\u001b[K     |████████████████████████████████| 109 kB 70.7 MB/s eta 0:00:01\n",
      "\u001b[?25h  Downloading ydata_sdk-0.6.1-py310-none-any.whl (108 kB)\n",
      "\u001b[K     |████████████████████████████████| 108 kB 67.4 MB/s eta 0:00:01\n",
      "\u001b[?25h  Downloading ydata_sdk-0.6.0-py310-none-any.whl (109 kB)\n",
      "\u001b[K     |████████████████████████████████| 109 kB 82.6 MB/s eta 0:00:01\n",
      "\u001b[?25h  Downloading ydata_sdk-0.5.0-py310-none-any.whl (109 kB)\n",
      "\u001b[K     |████████████████████████████████| 109 kB 21.9 MB/s eta 0:00:01\n",
      "\u001b[?25h  Downloading ydata_sdk-0.4.0-py310-none-any.whl (108 kB)\n",
      "\u001b[K     |████████████████████████████████| 108 kB 69.4 MB/s eta 0:00:01\n",
      "\u001b[?25h  Downloading ydata_sdk-0.3.0-py310-none-any.whl (108 kB)\n",
      "\u001b[K     |████████████████████████████████| 108 kB 89.7 MB/s eta 0:00:01\n",
      "\u001b[?25h  Downloading ydata_sdk-0.2.1-py310-none-any.whl (107 kB)\n",
      "\u001b[K     |████████████████████████████████| 107 kB 69.6 MB/s eta 0:00:01\n",
      "\u001b[?25hINFO: pip is looking at multiple versions of wordcloud to determine which version is compatible with other requirements. This could take a while.\n",
      "Collecting wordcloud>=1.9.1\n",
      "  Downloading wordcloud-1.9.3-cp310-cp310-manylinux_2_17_x86_64.manylinux2014_x86_64.whl (511 kB)\n",
      "\u001b[K     |████████████████████████████████| 511 kB 53.4 MB/s eta 0:00:01\n",
      "\u001b[?25h  Downloading wordcloud-1.9.2-cp310-cp310-manylinux_2_17_x86_64.manylinux2014_x86_64.whl (455 kB)\n",
      "\u001b[K     |████████████████████████████████| 455 kB 61.5 MB/s eta 0:00:01\n",
      "\u001b[?25h  Downloading wordcloud-1.9.1.1-cp310-cp310-manylinux_2_17_x86_64.manylinux2014_x86_64.whl (455 kB)\n",
      "\u001b[K     |████████████████████████████████| 455 kB 72.2 MB/s eta 0:00:01\n",
      "\u001b[?25hINFO: pip is looking at multiple versions of networkx to determine which version is compatible with other requirements. This could take a while.\n",
      "Collecting networkx>=2.4\n",
      "  Downloading networkx-3.3-py3-none-any.whl (1.7 MB)\n",
      "\u001b[K     |████████████████████████████████| 1.7 MB 50.4 MB/s eta 0:00:01\n",
      "\u001b[?25hINFO: pip is looking at multiple versions of wordcloud to determine which version is compatible with other requirements. This could take a while.\n",
      "  Downloading networkx-3.2.1-py3-none-any.whl (1.6 MB)\n",
      "\u001b[K     |████████████████████████████████| 1.6 MB 49.2 MB/s eta 0:00:01\n",
      "\u001b[?25h  Downloading networkx-3.2-py3-none-any.whl (1.6 MB)\n",
      "\u001b[K     |████████████████████████████████| 1.6 MB 45.6 MB/s eta 0:00:01\n",
      "\u001b[?25hINFO: This is taking longer than usual. You might need to provide the dependency resolver with stricter constraints to reduce runtime. If you want to abort this run, you can press Ctrl + C to do so. To improve how pip performs, tell us what happened here: https://pip.pypa.io/surveys/backtracking\n",
      "  Downloading networkx-3.1-py3-none-any.whl (2.1 MB)\n",
      "\u001b[K     |████████████████████████████████| 2.1 MB 22.3 MB/s eta 0:00:01\n",
      "\u001b[?25h  Downloading networkx-3.0-py3-none-any.whl (2.0 MB)\n",
      "\u001b[K     |████████████████████████████████| 2.0 MB 34.1 MB/s eta 0:00:01\n",
      "\u001b[?25h  Downloading networkx-2.8.8-py3-none-any.whl (2.0 MB)\n",
      "\u001b[K     |████████████████████████████████| 2.0 MB 52.3 MB/s eta 0:00:01\n",
      "\u001b[?25h  Downloading networkx-2.8.7-py3-none-any.whl (2.0 MB)\n",
      "\u001b[K     |████████████████████████████████| 2.0 MB 40.0 MB/s eta 0:00:01\n",
      "\u001b[?25hINFO: pip is looking at multiple versions of networkx to determine which version is compatible with other requirements. This could take a while.\n",
      "  Downloading networkx-2.8.6-py3-none-any.whl (2.0 MB)\n",
      "\u001b[K     |████████████████████████████████| 2.0 MB 42.3 MB/s eta 0:00:01\n",
      "\u001b[?25h  Downloading networkx-2.8.5-py3-none-any.whl (2.0 MB)\n",
      "\u001b[K     |████████████████████████████████| 2.0 MB 21.4 MB/s eta 0:00:01\n",
      "\u001b[?25h  Downloading networkx-2.8.4-py3-none-any.whl (2.0 MB)\n",
      "\u001b[K     |████████████████████████████████| 2.0 MB 38.3 MB/s eta 0:00:01\n",
      "\u001b[?25h  Downloading networkx-2.8.3-py3-none-any.whl (2.0 MB)\n",
      "\u001b[K     |████████████████████████████████| 2.0 MB 32.6 MB/s eta 0:00:01\n",
      "\u001b[?25h  Downloading networkx-2.8.2-py3-none-any.whl (2.0 MB)\n",
      "\u001b[K     |████████████████████████████████| 2.0 MB 54.2 MB/s eta 0:00:01\n",
      "\u001b[?25hINFO: This is taking longer than usual. You might need to provide the dependency resolver with stricter constraints to reduce runtime. If you want to abort this run, you can press Ctrl + C to do so. To improve how pip performs, tell us what happened here: https://pip.pypa.io/surveys/backtracking\n",
      "  Downloading networkx-2.8.1-py3-none-any.whl (2.0 MB)\n",
      "\u001b[K     |████████████████████████████████| 2.0 MB 42.0 MB/s eta 0:00:01\n",
      "\u001b[?25h  Downloading networkx-2.8-py3-none-any.whl (2.0 MB)\n",
      "\u001b[K     |████████████████████████████████| 2.0 MB 50.4 MB/s eta 0:00:01\n",
      "\u001b[?25h  Downloading networkx-2.7.1-py3-none-any.whl (2.0 MB)\n",
      "\u001b[K     |████████████████████████████████| 2.0 MB 40.1 MB/s eta 0:00:01\n",
      "\u001b[?25h  Downloading networkx-2.7-py3-none-any.whl (2.0 MB)\n",
      "\u001b[K     |████████████████████████████████| 2.0 MB 58.6 MB/s eta 0:00:01\n",
      "\u001b[?25h  Downloading networkx-2.6.3-py3-none-any.whl (1.9 MB)\n",
      "\u001b[K     |████████████████████████████████| 1.9 MB 52.6 MB/s eta 0:00:01\n",
      "\u001b[?25h  Downloading networkx-2.6.2-py3-none-any.whl (1.9 MB)\n",
      "\u001b[K     |████████████████████████████████| 1.9 MB 40.4 MB/s eta 0:00:01\n",
      "\u001b[?25h  Downloading networkx-2.5.1-py3-none-any.whl (1.6 MB)\n",
      "\u001b[K     |████████████████████████████████| 1.6 MB 39.1 MB/s eta 0:00:01\n",
      "\u001b[?25hCollecting decorator<5,>=4.3\n",
      "  Downloading decorator-4.4.2-py2.py3-none-any.whl (9.2 kB)\n",
      "INFO: pip is looking at multiple versions of decorator to determine which version is compatible with other requirements. This could take a while.\n",
      "  Downloading decorator-4.4.1-py2.py3-none-any.whl (9.2 kB)\n",
      "  Downloading decorator-4.4.0-py2.py3-none-any.whl (8.3 kB)\n",
      "  Downloading decorator-4.3.2-py2.py3-none-any.whl (9.1 kB)\n",
      "  Downloading decorator-4.3.1-py2.py3-none-any.whl (8.8 kB)\n",
      "  Downloading decorator-4.3.0-py2.py3-none-any.whl (9.2 kB)\n",
      "Collecting networkx>=2.4\n",
      "  Downloading networkx-2.5-py3-none-any.whl (1.6 MB)\n",
      "\u001b[K     |████████████████████████████████| 1.6 MB 49.1 MB/s eta 0:00:01\n",
      "\u001b[?25hRequirement already satisfied: decorator>=4.3.0 in /opt/conda/lib/python3.10/site-packages (from networkx>=2.4->visions[type_image_path]<0.7.7,>=0.7.5->ydata-profiling<5->ydata-synthetic[streamlit]) (5.1.1)\n",
      "Collecting decorator>=4.3.0\n",
      "  Downloading decorator-5.1.1-py3-none-any.whl (9.1 kB)\n",
      "INFO: pip is looking at multiple versions of decorator to determine which version is compatible with other requirements. This could take a while.\n",
      "  Downloading decorator-5.1.0-py3-none-any.whl (9.1 kB)\n",
      "  Downloading decorator-5.0.9-py3-none-any.whl (8.9 kB)\n",
      "  Downloading decorator-5.0.8-py3-none-any.whl (8.9 kB)\n",
      "  Downloading decorator-5.0.7-py3-none-any.whl (8.8 kB)\n",
      "  Downloading decorator-5.0.6-py3-none-any.whl (8.8 kB)\n",
      "INFO: This is taking longer than usual. You might need to provide the dependency resolver with stricter constraints to reduce runtime. If you want to abort this run, you can press Ctrl + C to do so. To improve how pip performs, tell us what happened here: https://pip.pypa.io/surveys/backtracking\n",
      "  Downloading decorator-5.0.5-py3-none-any.whl (8.8 kB)\n",
      "Collecting networkx>=2.4\n",
      "  Downloading networkx-2.4-py3-none-any.whl (1.6 MB)\n",
      "\u001b[K     |████████████████████████████████| 1.6 MB 32.2 MB/s eta 0:00:01\n",
      "\u001b[?25hINFO: pip is looking at multiple versions of visions[type-image-path] to determine which version is compatible with other requirements. This could take a while.\n",
      "Collecting visions[type_image_path]<0.7.7,>=0.7.5\n",
      "  Downloading visions-0.7.6-py3-none-any.whl (104 kB)\n",
      "\u001b[K     |████████████████████████████████| 104 kB 63.3 MB/s eta 0:00:01\n",
      "\u001b[?25h  Downloading visions-0.7.5-py3-none-any.whl (102 kB)\n",
      "\u001b[K     |████████████████████████████████| 102 kB 69.0 MB/s eta 0:00:01\n",
      "\u001b[?25hCollecting tangled-up-in-unicode>=0.0.4\n",
      "  Downloading tangled_up_in_unicode-0.2.0-py3-none-any.whl (4.7 MB)\n",
      "\u001b[K     |████████████████████████████████| 4.7 MB 56.0 MB/s eta 0:00:01\n",
      "\u001b[?25hINFO: pip is looking at multiple versions of tangled-up-in-unicode to determine which version is compatible with other requirements. This could take a while.\n",
      "  Downloading tangled_up_in_unicode-0.1.0-py3-none-any.whl (3.1 MB)\n",
      "\u001b[K     |████████████████████████████████| 3.1 MB 54.3 MB/s eta 0:00:01\n",
      "\u001b[?25h  Downloading tangled_up_in_unicode-0.0.7-py3-none-any.whl (3.1 MB)\n",
      "\u001b[K     |████████████████████████████████| 3.1 MB 40.4 MB/s eta 0:00:01\n",
      "\u001b[?25h  Downloading tangled_up_in_unicode-0.0.6-py3-none-any.whl (3.1 MB)\n",
      "\u001b[K     |████████████████████████████████| 3.1 MB 57.1 MB/s eta 0:00:01\n",
      "\u001b[?25h  Downloading tangled_up_in_unicode-0.0.5-py3-none-any.whl (3.1 MB)\n",
      "\u001b[K     |████████████████████████████████| 3.1 MB 42.6 MB/s eta 0:00:01\n",
      "\u001b[?25h  Downloading tangled_up_in_unicode-0.0.4.tar.gz (1.5 MB)\n",
      "\u001b[K     |████████████████████████████████| 1.5 MB 70.6 MB/s eta 0:00:01\n",
      "\u001b[?25hINFO: pip is looking at multiple versions of tangled-up-in-unicode to determine which version is compatible with other requirements. This could take a while.\n",
      "INFO: This is taking longer than usual. You might need to provide the dependency resolver with stricter constraints to reduce runtime. If you want to abort this run, you can press Ctrl + C to do so. To improve how pip performs, tell us what happened here: https://pip.pypa.io/surveys/backtracking\n",
      "INFO: pip is looking at multiple versions of patsy to determine which version is compatible with other requirements. This could take a while.\n",
      "Collecting patsy>=0.5.6\n",
      "  Downloading patsy-0.5.6-py2.py3-none-any.whl (233 kB)\n",
      "\u001b[K     |████████████████████████████████| 233 kB 55.8 MB/s eta 0:00:01\n",
      "\u001b[?25hINFO: pip is looking at multiple versions of statsmodels to determine which version is compatible with other requirements. This could take a while.\n",
      "Collecting statsmodels<1,>=0.13.2\n",
      "  Downloading statsmodels-0.14.2-cp310-cp310-manylinux_2_17_x86_64.manylinux2014_x86_64.whl (10.8 MB)\n",
      "\u001b[K     |████████████████████████████████| 10.8 MB 51.6 MB/s eta 0:00:01\n",
      "\u001b[?25hINFO: pip is looking at multiple versions of visions[type-image-path] to determine which version is compatible with other requirements. This could take a while.\n",
      "  Downloading statsmodels-0.14.1-cp310-cp310-manylinux_2_17_x86_64.manylinux2014_x86_64.whl (10.8 MB)\n",
      "\u001b[K     |████████████████████████████████| 10.8 MB 47.4 MB/s eta 0:00:01\n",
      "\u001b[?25hINFO: This is taking longer than usual. You might need to provide the dependency resolver with stricter constraints to reduce runtime. If you want to abort this run, you can press Ctrl + C to do so. To improve how pip performs, tell us what happened here: https://pip.pypa.io/surveys/backtracking\n",
      "Collecting patsy>=0.5.4\n",
      "  Downloading patsy-0.5.4-py2.py3-none-any.whl (233 kB)\n",
      "\u001b[K     |████████████████████████████████| 233 kB 70.4 MB/s eta 0:00:01\n",
      "\u001b[?25hCollecting statsmodels<1,>=0.13.2\n",
      "  Downloading statsmodels-0.14.0-cp310-cp310-manylinux_2_17_x86_64.manylinux2014_x86_64.whl (10.1 MB)\n",
      "\u001b[K     |████████████████████████████████| 10.1 MB 51.0 MB/s eta 0:00:01\n",
      "\u001b[?25hINFO: pip is looking at multiple versions of patsy to determine which version is compatible with other requirements. This could take a while.\n"
     ]
    }
   ],
   "source": [
    "! pip install ydata-synthetic[streamlit]"
   ]
  },
  {
   "cell_type": "code",
   "execution_count": null,
   "metadata": {},
   "outputs": [],
   "source": []
  },
  {
   "cell_type": "code",
   "execution_count": null,
   "metadata": {},
   "outputs": [],
   "source": [
    "from ydata_synthetic import streamlit_app\n",
    "\n",
    "streamlit_app.run()"
   ]
  },
  {
   "cell_type": "code",
   "execution_count": null,
   "metadata": {
    "tags": []
   },
   "outputs": [],
   "source": [
    "!python -m streamlit_app"
   ]
  },
  {
   "cell_type": "code",
   "execution_count": null,
   "metadata": {},
   "outputs": [],
   "source": []
  }
 ],
 "metadata": {
  "colab": {
   "collapsed_sections": [],
   "name": "notebook_template.ipynb",
   "toc_visible": true
  },
  "environment": {
   "kernel": "conda-base-py",
   "name": "workbench-notebooks.m124",
   "type": "gcloud",
   "uri": "us-docker.pkg.dev/deeplearning-platform-release/gcr.io/workbench-notebooks:m124"
  },
  "kernelspec": {
   "display_name": "Python 3 (ipykernel)",
   "language": "python",
   "name": "conda-base-py"
  },
  "language_info": {
   "codemirror_mode": {
    "name": "ipython",
    "version": 3
   },
   "file_extension": ".py",
   "mimetype": "text/x-python",
   "name": "python",
   "nbconvert_exporter": "python",
   "pygments_lexer": "ipython3",
   "version": "3.10.14"
  }
 },
 "nbformat": 4,
 "nbformat_minor": 4
}
