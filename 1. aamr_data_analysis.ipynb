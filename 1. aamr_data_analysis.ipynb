{
 "cells": [
  {
   "cell_type": "raw",
   "metadata": {
    "id": "ur8xi4C7S06n"
   },
   "source": [
    "# Copyright 2023 Google LLC\n",
    "#\n",
    "# Licensed under the Apache License, Version 2.0 (the \"License\");\n",
    "# you may not use this file except in compliance with the License.\n",
    "# You may obtain a copy of the License at\n",
    "#\n",
    "#     https://www.apache.org/licenses/LICENSE-2.0\n",
    "#\n",
    "# Unless required by applicable law or agreed to in writing, software\n",
    "# distributed under the License is distributed on an \"AS IS\" BASIS,\n",
    "# WITHOUT WARRANTIES OR CONDITIONS OF ANY KIND, either express or implied.\n",
    "# See the License for the specific language governing permissions and\n",
    "# limitations under the License."
   ]
  },
  {
   "cell_type": "markdown",
   "metadata": {
    "id": "JAPoU8Sm5E6e",
    "tags": []
   },
   "source": [
    "# AAMR - Data Analysis"
   ]
  },
  {
   "cell_type": "markdown",
   "metadata": {
    "id": "24743cf4a1e1"
   },
   "source": [
    "**_NOTE_**: This notebook has been tested in the following environment:\n",
    "\n",
    "* Python version = 3.10.13"
   ]
  },
  {
   "cell_type": "markdown",
   "metadata": {
    "id": "tvgnzT1CKxrO",
    "jp-MarkdownHeadingCollapsed": true,
    "tags": []
   },
   "source": [
    "## Overview\n",
    "\n",
    "Analyze Data requirements for AAMR Model development"
   ]
  },
  {
   "cell_type": "markdown",
   "metadata": {
    "id": "d975e698c9a4"
   },
   "source": [
    "### Objective\n",
    "\n",
    "Identify required data elements for training"
   ]
  },
  {
   "cell_type": "markdown",
   "metadata": {
    "id": "08d289fa873f"
   },
   "source": [
    "### Dataset\n",
    "\n",
    "For demo purposes, we are planning to utilize csv dataset"
   ]
  },
  {
   "cell_type": "markdown",
   "metadata": {
    "id": "aed92deeb4a0",
    "jp-MarkdownHeadingCollapsed": true,
    "tags": []
   },
   "source": [
    "### Costs \n",
    "\n",
    "This tutorial uses billable components of Google Cloud:\n",
    "\n",
    "* NA\n"
   ]
  },
  {
   "cell_type": "markdown",
   "metadata": {
    "id": "TpV-iwP9qw9c",
    "tags": []
   },
   "source": [
    "## Data Analysis\n",
    "\n",
    "We are planning to utilize two datasets.\n",
    "\n",
    "1. One dataset with list of medications along with their dose, ingradients informations. We can consider Medi-span as data source for this\n",
    "2. Patient current medications\n",
    "\n",
    "\n"
   ]
  },
  {
   "cell_type": "code",
   "execution_count": 3,
   "metadata": {
    "tags": []
   },
   "outputs": [],
   "source": [
    "%%capture\n",
    "import pandas as pd\n",
    "import numpy as np\n",
    "\n",
    "# Make numpy values easier to read.\n",
    "np.set_printoptions(precision=3, suppress=True)\n",
    "\n",
    "import tensorflow as tf\n",
    "from tensorflow.keras import layers"
   ]
  },
  {
   "cell_type": "markdown",
   "metadata": {
    "tags": []
   },
   "source": [
    "### Medication Dataset\n",
    "\n",
    "Consider this master dataset where recommendations are pulled from."
   ]
  },
  {
   "cell_type": "markdown",
   "metadata": {
    "tags": []
   },
   "source": [
    "Below is sample data elements for medications.\n",
    "\n",
    "##### Medication Id, Medication Name, Medication Ingradient, Medication Dose, form / dispensible"
   ]
  },
  {
   "cell_type": "code",
   "execution_count": 12,
   "metadata": {
    "tags": []
   },
   "outputs": [
    {
     "data": {
      "text/html": [
       "<div>\n",
       "<style scoped>\n",
       "    .dataframe tbody tr th:only-of-type {\n",
       "        vertical-align: middle;\n",
       "    }\n",
       "\n",
       "    .dataframe tbody tr th {\n",
       "        vertical-align: top;\n",
       "    }\n",
       "\n",
       "    .dataframe thead th {\n",
       "        text-align: right;\n",
       "    }\n",
       "</style>\n",
       "<table border=\"1\" class=\"dataframe\">\n",
       "  <thead>\n",
       "    <tr style=\"text-align: right;\">\n",
       "      <th></th>\n",
       "      <th>Medicine Name</th>\n",
       "      <th>Composition</th>\n",
       "      <th>Uses</th>\n",
       "      <th>Side_effects</th>\n",
       "      <th>Image URL</th>\n",
       "      <th>Manufacturer</th>\n",
       "      <th>Excellent Review %</th>\n",
       "      <th>Average Review %</th>\n",
       "      <th>Poor Review %</th>\n",
       "    </tr>\n",
       "  </thead>\n",
       "  <tbody>\n",
       "    <tr>\n",
       "      <th>0</th>\n",
       "      <td>Medicine Name</td>\n",
       "      <td>Composition</td>\n",
       "      <td>Uses</td>\n",
       "      <td>Side_effects</td>\n",
       "      <td>Image URL</td>\n",
       "      <td>Manufacturer</td>\n",
       "      <td>Excellent Review %</td>\n",
       "      <td>Average Review %</td>\n",
       "      <td>Poor Review %</td>\n",
       "    </tr>\n",
       "    <tr>\n",
       "      <th>1</th>\n",
       "      <td>Avastin 400mg Injection</td>\n",
       "      <td>Bevacizumab (400mg)</td>\n",
       "      <td>Cancer of colon and rectum Non-small cell lun...</td>\n",
       "      <td>Rectal bleeding Taste change Headache Noseblee...</td>\n",
       "      <td>https://onemg.gumlet.io/l_watermark_346,w_480,...</td>\n",
       "      <td>Roche Products India Pvt Ltd</td>\n",
       "      <td>22</td>\n",
       "      <td>56</td>\n",
       "      <td>22</td>\n",
       "    </tr>\n",
       "    <tr>\n",
       "      <th>2</th>\n",
       "      <td>Augmentin 625 Duo Tablet</td>\n",
       "      <td>Amoxycillin  (500mg) +  Clavulanic Acid (125mg)</td>\n",
       "      <td>Treatment of Bacterial infections</td>\n",
       "      <td>Vomiting Nausea Diarrhea Mucocutaneous candidi...</td>\n",
       "      <td>https://onemg.gumlet.io/l_watermark_346,w_480,...</td>\n",
       "      <td>Glaxo SmithKline Pharmaceuticals Ltd</td>\n",
       "      <td>47</td>\n",
       "      <td>35</td>\n",
       "      <td>18</td>\n",
       "    </tr>\n",
       "    <tr>\n",
       "      <th>3</th>\n",
       "      <td>Azithral 500 Tablet</td>\n",
       "      <td>Azithromycin (500mg)</td>\n",
       "      <td>Treatment of Bacterial infections</td>\n",
       "      <td>Nausea Abdominal pain Diarrhea</td>\n",
       "      <td>https://onemg.gumlet.io/l_watermark_346,w_480,...</td>\n",
       "      <td>Alembic Pharmaceuticals Ltd</td>\n",
       "      <td>39</td>\n",
       "      <td>40</td>\n",
       "      <td>21</td>\n",
       "    </tr>\n",
       "    <tr>\n",
       "      <th>4</th>\n",
       "      <td>Ascoril LS Syrup</td>\n",
       "      <td>Ambroxol (30mg/5ml) + Levosalbutamol (1mg/5ml)...</td>\n",
       "      <td>Treatment of Cough with mucus</td>\n",
       "      <td>Nausea Vomiting Diarrhea Upset stomach Stomach...</td>\n",
       "      <td>https://onemg.gumlet.io/l_watermark_346,w_480,...</td>\n",
       "      <td>Glenmark Pharmaceuticals Ltd</td>\n",
       "      <td>24</td>\n",
       "      <td>41</td>\n",
       "      <td>35</td>\n",
       "    </tr>\n",
       "  </tbody>\n",
       "</table>\n",
       "</div>"
      ],
      "text/plain": [
       "              Medicine Name  \\\n",
       "0             Medicine Name   \n",
       "1   Avastin 400mg Injection   \n",
       "2  Augmentin 625 Duo Tablet   \n",
       "3       Azithral 500 Tablet   \n",
       "4          Ascoril LS Syrup   \n",
       "\n",
       "                                         Composition  \\\n",
       "0                                        Composition   \n",
       "1                                Bevacizumab (400mg)   \n",
       "2    Amoxycillin  (500mg) +  Clavulanic Acid (125mg)   \n",
       "3                               Azithromycin (500mg)   \n",
       "4  Ambroxol (30mg/5ml) + Levosalbutamol (1mg/5ml)...   \n",
       "\n",
       "                                                Uses  \\\n",
       "0                                               Uses   \n",
       "1   Cancer of colon and rectum Non-small cell lun...   \n",
       "2                  Treatment of Bacterial infections   \n",
       "3                  Treatment of Bacterial infections   \n",
       "4                      Treatment of Cough with mucus   \n",
       "\n",
       "                                        Side_effects  \\\n",
       "0                                       Side_effects   \n",
       "1  Rectal bleeding Taste change Headache Noseblee...   \n",
       "2  Vomiting Nausea Diarrhea Mucocutaneous candidi...   \n",
       "3                     Nausea Abdominal pain Diarrhea   \n",
       "4  Nausea Vomiting Diarrhea Upset stomach Stomach...   \n",
       "\n",
       "                                           Image URL  \\\n",
       "0                                          Image URL   \n",
       "1  https://onemg.gumlet.io/l_watermark_346,w_480,...   \n",
       "2  https://onemg.gumlet.io/l_watermark_346,w_480,...   \n",
       "3  https://onemg.gumlet.io/l_watermark_346,w_480,...   \n",
       "4  https://onemg.gumlet.io/l_watermark_346,w_480,...   \n",
       "\n",
       "                           Manufacturer  Excellent Review %  Average Review %  \\\n",
       "0                          Manufacturer  Excellent Review %  Average Review %   \n",
       "1          Roche Products India Pvt Ltd                  22                56   \n",
       "2  Glaxo SmithKline Pharmaceuticals Ltd                  47                35   \n",
       "3           Alembic Pharmaceuticals Ltd                  39                40   \n",
       "4          Glenmark Pharmaceuticals Ltd                  24                41   \n",
       "\n",
       "   Poor Review %  \n",
       "0  Poor Review %  \n",
       "1             22  \n",
       "2             18  \n",
       "3             21  \n",
       "4             35  "
      ]
     },
     "execution_count": 12,
     "metadata": {},
     "output_type": "execute_result"
    }
   ],
   "source": [
    "med_data = pd.read_csv(\n",
    "    \"data/Medicine_Details.csv\",\n",
    "    names=[\"Medicine Name\",\"Composition\",\"Uses\",\"Side_effects\",\"Image URL\",\"Manufacturer\",\"Excellent Review %\",\"Average Review %\",\"Poor Review %\"])\n",
    "\n",
    "med_data.head()"
   ]
  },
  {
   "cell_type": "markdown",
   "metadata": {
    "tags": []
   },
   "source": [
    "### Patient Medications Dataset\n",
    "\n",
    "This is actual medication patient is currently getting based on their current CKD Stage.\n",
    "For example:\n",
    "CKD Stage-1 patients will have following medications that are currently used on daily basis.\n",
    "\n",
    "We making as assumption current medications are best medications based on doctor recommendations.\n",
    "\n",
    "There may be other criterias like patient diabetic status and patient past medical history that could potentially impact current medication. \n",
    "For demo sake we are not considering those additional feature attributes for training.\n"
   ]
  },
  {
   "cell_type": "markdown",
   "metadata": {
    "tags": []
   },
   "source": [
    "Below is sample data elements for patient medications.\n",
    "\n",
    "##### Patient Id, Patient Medication Id, Patient Medication Dose, Patient medication form, Patient medication Ingradient, Patient CKD Stage"
   ]
  },
  {
   "cell_type": "code",
   "execution_count": 43,
   "metadata": {
    "tags": []
   },
   "outputs": [
    {
     "data": {
      "text/html": [
       "<div>\n",
       "<style scoped>\n",
       "    .dataframe tbody tr th:only-of-type {\n",
       "        vertical-align: middle;\n",
       "    }\n",
       "\n",
       "    .dataframe tbody tr th {\n",
       "        vertical-align: top;\n",
       "    }\n",
       "\n",
       "    .dataframe thead th {\n",
       "        text-align: right;\n",
       "    }\n",
       "</style>\n",
       "<table border=\"1\" class=\"dataframe\">\n",
       "  <thead>\n",
       "    <tr style=\"text-align: right;\">\n",
       "      <th></th>\n",
       "      <th>Diabetic</th>\n",
       "      <th>AlcoholLevel</th>\n",
       "      <th>HeartRate</th>\n",
       "      <th>BloodOxygenLevel</th>\n",
       "      <th>BodyTemperature</th>\n",
       "      <th>Weight</th>\n",
       "      <th>MRI_Delay</th>\n",
       "      <th>Prescription</th>\n",
       "      <th>Dosage in mg</th>\n",
       "      <th>Age</th>\n",
       "      <th>...</th>\n",
       "      <th>Smoking_Status</th>\n",
       "      <th>APOE_E4</th>\n",
       "      <th>Physical_Activity</th>\n",
       "      <th>Depression_Status</th>\n",
       "      <th>Cognitive_Test_Scores</th>\n",
       "      <th>Medication_History</th>\n",
       "      <th>Nutrition_Diet</th>\n",
       "      <th>Sleep_Quality</th>\n",
       "      <th>Chronic_Health_Conditions</th>\n",
       "      <th>Dementia</th>\n",
       "    </tr>\n",
       "  </thead>\n",
       "  <tbody>\n",
       "    <tr>\n",
       "      <th>0</th>\n",
       "      <td>1</td>\n",
       "      <td>0.084974</td>\n",
       "      <td>98</td>\n",
       "      <td>96.230743</td>\n",
       "      <td>36.224852</td>\n",
       "      <td>57.563978</td>\n",
       "      <td>36.421028</td>\n",
       "      <td>Galantamine</td>\n",
       "      <td>12.0</td>\n",
       "      <td>60</td>\n",
       "      <td>...</td>\n",
       "      <td>Current Smoker</td>\n",
       "      <td>Negative</td>\n",
       "      <td>Sedentary</td>\n",
       "      <td>No</td>\n",
       "      <td>10</td>\n",
       "      <td>No</td>\n",
       "      <td>Low-Carb Diet</td>\n",
       "      <td>Poor</td>\n",
       "      <td>Diabetes</td>\n",
       "      <td>0</td>\n",
       "    </tr>\n",
       "    <tr>\n",
       "      <th>1</th>\n",
       "      <td>0</td>\n",
       "      <td>0.016973</td>\n",
       "      <td>78</td>\n",
       "      <td>93.032122</td>\n",
       "      <td>36.183874</td>\n",
       "      <td>56.832335</td>\n",
       "      <td>31.157633</td>\n",
       "      <td>Galantamine</td>\n",
       "      <td>12.0</td>\n",
       "      <td>61</td>\n",
       "      <td>...</td>\n",
       "      <td>Former Smoker</td>\n",
       "      <td>Positive</td>\n",
       "      <td>Moderate Activity</td>\n",
       "      <td>No</td>\n",
       "      <td>1</td>\n",
       "      <td>Yes</td>\n",
       "      <td>Low-Carb Diet</td>\n",
       "      <td>Poor</td>\n",
       "      <td>Heart Disease</td>\n",
       "      <td>1</td>\n",
       "    </tr>\n",
       "    <tr>\n",
       "      <th>2</th>\n",
       "      <td>0</td>\n",
       "      <td>0.009000</td>\n",
       "      <td>89</td>\n",
       "      <td>93.566504</td>\n",
       "      <td>37.326321</td>\n",
       "      <td>59.759066</td>\n",
       "      <td>37.640435</td>\n",
       "      <td>Galantamine</td>\n",
       "      <td>12.0</td>\n",
       "      <td>69</td>\n",
       "      <td>...</td>\n",
       "      <td>Former Smoker</td>\n",
       "      <td>Negative</td>\n",
       "      <td>Moderate Activity</td>\n",
       "      <td>No</td>\n",
       "      <td>8</td>\n",
       "      <td>No</td>\n",
       "      <td>Mediterranean Diet</td>\n",
       "      <td>Poor</td>\n",
       "      <td>Heart Disease</td>\n",
       "      <td>0</td>\n",
       "    </tr>\n",
       "    <tr>\n",
       "      <th>3</th>\n",
       "      <td>0</td>\n",
       "      <td>0.086437</td>\n",
       "      <td>60</td>\n",
       "      <td>93.906510</td>\n",
       "      <td>37.030620</td>\n",
       "      <td>58.266471</td>\n",
       "      <td>50.673992</td>\n",
       "      <td>Donepezil</td>\n",
       "      <td>23.0</td>\n",
       "      <td>78</td>\n",
       "      <td>...</td>\n",
       "      <td>Never Smoked</td>\n",
       "      <td>Negative</td>\n",
       "      <td>Mild Activity</td>\n",
       "      <td>Yes</td>\n",
       "      <td>5</td>\n",
       "      <td>Yes</td>\n",
       "      <td>Balanced Diet</td>\n",
       "      <td>Poor</td>\n",
       "      <td>Hypertension</td>\n",
       "      <td>1</td>\n",
       "    </tr>\n",
       "    <tr>\n",
       "      <th>4</th>\n",
       "      <td>1</td>\n",
       "      <td>0.150747</td>\n",
       "      <td>67</td>\n",
       "      <td>97.508994</td>\n",
       "      <td>36.062121</td>\n",
       "      <td>67.705027</td>\n",
       "      <td>27.810601</td>\n",
       "      <td>Memantine</td>\n",
       "      <td>20.0</td>\n",
       "      <td>77</td>\n",
       "      <td>...</td>\n",
       "      <td>Never Smoked</td>\n",
       "      <td>Positive</td>\n",
       "      <td>Mild Activity</td>\n",
       "      <td>No</td>\n",
       "      <td>0</td>\n",
       "      <td>Yes</td>\n",
       "      <td>Low-Carb Diet</td>\n",
       "      <td>Good</td>\n",
       "      <td>Diabetes</td>\n",
       "      <td>1</td>\n",
       "    </tr>\n",
       "  </tbody>\n",
       "</table>\n",
       "<p>5 rows × 24 columns</p>\n",
       "</div>"
      ],
      "text/plain": [
       "   Diabetic  AlcoholLevel  HeartRate  BloodOxygenLevel  BodyTemperature  \\\n",
       "0         1      0.084974         98         96.230743        36.224852   \n",
       "1         0      0.016973         78         93.032122        36.183874   \n",
       "2         0      0.009000         89         93.566504        37.326321   \n",
       "3         0      0.086437         60         93.906510        37.030620   \n",
       "4         1      0.150747         67         97.508994        36.062121   \n",
       "\n",
       "      Weight  MRI_Delay Prescription  Dosage in mg  Age  ...  Smoking_Status  \\\n",
       "0  57.563978  36.421028  Galantamine          12.0   60  ...  Current Smoker   \n",
       "1  56.832335  31.157633  Galantamine          12.0   61  ...   Former Smoker   \n",
       "2  59.759066  37.640435  Galantamine          12.0   69  ...   Former Smoker   \n",
       "3  58.266471  50.673992    Donepezil          23.0   78  ...    Never Smoked   \n",
       "4  67.705027  27.810601    Memantine          20.0   77  ...    Never Smoked   \n",
       "\n",
       "    APOE_E4  Physical_Activity Depression_Status Cognitive_Test_Scores  \\\n",
       "0  Negative          Sedentary                No                    10   \n",
       "1  Positive  Moderate Activity                No                     1   \n",
       "2  Negative  Moderate Activity                No                     8   \n",
       "3  Negative      Mild Activity               Yes                     5   \n",
       "4  Positive      Mild Activity                No                     0   \n",
       "\n",
       "  Medication_History      Nutrition_Diet Sleep_Quality  \\\n",
       "0                 No       Low-Carb Diet          Poor   \n",
       "1                Yes       Low-Carb Diet          Poor   \n",
       "2                 No  Mediterranean Diet          Poor   \n",
       "3                Yes       Balanced Diet          Poor   \n",
       "4                Yes       Low-Carb Diet          Good   \n",
       "\n",
       "   Chronic_Health_Conditions Dementia  \n",
       "0                   Diabetes        0  \n",
       "1              Heart Disease        1  \n",
       "2              Heart Disease        0  \n",
       "3               Hypertension        1  \n",
       "4                   Diabetes        1  \n",
       "\n",
       "[5 rows x 24 columns]"
      ]
     },
     "execution_count": 43,
     "metadata": {},
     "output_type": "execute_result"
    }
   ],
   "source": [
    "patient_health_data = pd.read_csv(\n",
    "    \"data/patients_health_data.csv\",\n",
    "    names=[\"Diabetic\",\"AlcoholLevel\",\"HeartRate\",\"BloodOxygenLevel\",\"BodyTemperature\",\"Weight\",\"MRI_Delay\",\"Prescription\",\"Dosage in mg\",\"Age\",\"Education_Level\",\"Dominant_Hand\",\"Gender\",\"Family_History\",\"Smoking_Status\",\"APOE_E4\",\"Physical_Activity\",\"Depression_Status\",\"Cognitive_Test_Scores\",\"Medication_History\",\"Nutrition_Diet\",\"Sleep_Quality\",\"Chronic_Health_Conditions\",\"Dementia\"])\n",
    "\n",
    "patient_health_data.head()"
   ]
  },
  {
   "cell_type": "code",
   "execution_count": null,
   "metadata": {},
   "outputs": [],
   "source": []
  },
  {
   "cell_type": "markdown",
   "metadata": {
    "tags": []
   },
   "source": [
    "## Load csv data to tf dataset"
   ]
  },
  {
   "cell_type": "markdown",
   "metadata": {
    "tags": []
   },
   "source": [
    "### Dataloading using tf tensor slices using panda dataset"
   ]
  },
  {
   "cell_type": "code",
   "execution_count": 40,
   "metadata": {
    "tags": []
   },
   "outputs": [],
   "source": [
    "med_dataset = tf.data.Dataset.from_tensor_slices(dict(med_data))"
   ]
  },
  {
   "cell_type": "code",
   "execution_count": 29,
   "metadata": {
    "tags": []
   },
   "outputs": [],
   "source": [
    "patient_dataset = tf.data.Dataset.from_tensor_slices(dict(patient_health_data))"
   ]
  },
  {
   "cell_type": "markdown",
   "metadata": {
    "tags": []
   },
   "source": [
    "### Dataloading using tf experimental make csv dataset"
   ]
  },
  {
   "cell_type": "code",
   "execution_count": 36,
   "metadata": {
    "tags": []
   },
   "outputs": [
    {
     "name": "stdout",
     "output_type": "stream",
     "text": [
      "Downloading data from https://storage.cloud.google.com/vc-model-training/data/med_data.csv\n",
      "   8192/Unknown - 0s 0us/step"
     ]
    }
   ],
   "source": [
    "titanic_file_path = tf.keras.utils.get_file(\"med_data.csv\", \"https://storage.cloud.google.com/vc-model-training/data/med_data.csv\")"
   ]
  },
  {
   "cell_type": "code",
   "execution_count": 37,
   "metadata": {
    "tags": []
   },
   "outputs": [
    {
     "data": {
      "text/plain": [
       "'/home/jupyter/.keras/datasets/med_data.csv'"
      ]
     },
     "execution_count": 37,
     "metadata": {},
     "output_type": "execute_result"
    }
   ],
   "source": [
    "titanic_file_path"
   ]
  },
  {
   "cell_type": "code",
   "execution_count": null,
   "metadata": {
    "tags": []
   },
   "outputs": [],
   "source": [
    "# No label column specified\n",
    "dataset = tf.data.experimental.make_csv_dataset(titanic_file_path, batch_size=2)\n",
    "iterator = dataset.as_numpy_iterator()\n",
    "print(dict(next(iterator)))\n",
    "# prints a dictionary of batched features:\n",
    "# OrderedDict([('Feature_A', array([1, 4], dtype=int32)),\n",
    "#              ('Feature_B', array([b'a', b'd'], dtype=object))])"
   ]
  },
  {
   "cell_type": "code",
   "execution_count": null,
   "metadata": {},
   "outputs": [],
   "source": []
  }
 ],
 "metadata": {
  "colab": {
   "collapsed_sections": [],
   "name": "notebook_template.ipynb",
   "toc_visible": true
  },
  "environment": {
   "kernel": "conda-base-py",
   "name": "workbench-notebooks.m124",
   "type": "gcloud",
   "uri": "us-docker.pkg.dev/deeplearning-platform-release/gcr.io/workbench-notebooks:m124"
  },
  "kernelspec": {
   "display_name": "Python 3 (ipykernel)",
   "language": "python",
   "name": "conda-base-py"
  },
  "language_info": {
   "codemirror_mode": {
    "name": "ipython",
    "version": 3
   },
   "file_extension": ".py",
   "mimetype": "text/x-python",
   "name": "python",
   "nbconvert_exporter": "python",
   "pygments_lexer": "ipython3",
   "version": "3.10.14"
  }
 },
 "nbformat": 4,
 "nbformat_minor": 4
}
